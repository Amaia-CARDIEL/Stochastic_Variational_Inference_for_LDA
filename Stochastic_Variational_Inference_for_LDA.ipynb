{
 "cells": [
  {
   "cell_type": "markdown",
   "metadata": {
    "id": "KgLRuz0FUAPF"
   },
   "source": [
    "# Project - Sampling for generative models\n",
    "\n",
    "**Group 6 :** Armand VIOLLE (M2A), Sobihan SURENDRAN (M2A), Amaia CARDIEL (M2A)\n",
    "\n",
    "**Article 13 :** [Stochastic Variational Inference](https://jmlr.org/papers/volume14/hoffman13a/hoffman13a.pdf)\n",
    "\n",
    "\n"
   ]
  },
  {
   "cell_type": "markdown",
   "metadata": {
    "id": "c-J6oBlPaghs"
   },
   "source": [
    "## 1) Introduction\n",
    "\n",
    "Our reference article aims at exploring how to use probabilistic graphical models and related posterior inference when the available data is numerous, complex, and high-dimensional. Such datasets usually cannot be dealt with by classic inference algorithms - such as variational inference or MCMC - as they fail to scale. \n",
    "\n",
    "A domain of application that is particularly put forward by the article's authors is the analysis of large collections of documents, which precisely requires to approximate posterior distributions in a scalable way.  "
   ]
  },
  {
   "cell_type": "markdown",
   "metadata": {
    "id": "Q48pdMqwWyCm"
   },
   "source": [
    "## 2) Prerequisite modeling\n",
    "\n",
    "The proposed algorithm - Stochastic Variational Inference (referenced as \"SVI\" below) - builds on variational inference, alongside further modeling and optimization choices that we will detail in this second section. \n",
    "\n",
    "**a) Building on variational inference**\n",
    "\n",
    "As for classic variational inference, the aim of SVI is to infer a hidden structure that best explains the observed data in the context of a probabilistic graphical model. Let us thus detail the **variables and dependence structure** used in our model:\n",
    "\n",
    "* N observations: $x=x_{1:N}$\n",
    "* N local hidden variables: $z=z_{1:N}$\n",
    "* Global hidden variables: $\\beta$\n",
    "* Fixed parameters: $\\alpha$\n",
    "\n",
    "Each $x_n$, $z_n$ and $\\beta$ variables may be a collection of variables such as, for a given $J$, $z_n=z_{n, 1:J}$. Let us also note that when using the notation $z_{-n}$, we will refer to the set of all $z$ variables except the $n^{th}$ one. \n",
    "\n",
    "Each $x_n$ variable only depends on the local hidden variable $z_n$ and on the global hidden variables $\\beta$.\n",
    "The global hidden variables $\\beta$ are the only variables that depend on the parameters $\\alpha$. This dependence structure leads to the following joint distribution factorization: $p(x,z,\\beta| \\alpha)=p(\\beta | \\alpha) \\prod_{n=1}^N p(x_n, z_n|\\beta)$. \n",
    "\n",
    "**Assumptions on the complete conditionals**\n",
    "\n",
    "The complete conditionals - i.e. the conditional distribution of hidden variables given the other variables - are all assumed to be in the exponential family:\n",
    "\n",
    "$$\n",
    "p(\\beta |x,z,\\alpha)=h(\\beta) \\exp\\{\\eta_g(x,z,\\alpha)^T t(\\beta)-a_g(\\eta_g(x,z,\\alpha))\\}\n",
    "$$\n",
    "$$\n",
    "p(z_{nj} |x_{n},z_{n,-j},\\beta)=h(z_{nj}) \\exp\\{\\eta_l(x_n,z_{n,-j},\\beta)^T t(z_{nj})-a_l(\\eta_l(x_n,z_{n,-j},\\beta))\\}\n",
    "$$\n",
    "\n",
    "Using the exponential family enables us, thanks to conjugacy properties, to deduce that the prior distribution on $\\beta$ as well as the complete conditional on the global variables are in a same exponential family, as follows:\n",
    "\n",
    "$$\n",
    "p(\\beta)=h(\\beta)\\exp\\{\\alpha^T t(\\beta)-a_g(\\alpha)\\}\n",
    "$$\n",
    "$$\n",
    "\\eta_g(x,z,\\alpha)=(\\alpha_1+\\sum_{n=1}^N t(z_n, x_n), \\alpha_2+N)\n",
    "$$\n",
    "\n",
    "Let us recall that our primary goal is to approximate the distribution of hidden variables given the observations: $p(\\beta, z|x)=\\frac{p(\\beta, z,x)}{\\int p(\\beta, z,x)dzd\\beta}$. However, for most models, the denominator of this goal distribution in not tractable, which implies the need for an approximation inference algorithm. In the case of our article, the chosen basis will be mean-field variational inference. \n",
    "\n",
    "**Mean-Field variational inference**\n",
    "\n",
    "As seen during the class, variational inference wants to find the best candidate to approximate the posterior distribution among a chosen tractable family, that we name the variational distribution (here $q(z,\\beta)$), parameterized by variational parameters (here named $\\lambda$ and $\\phi_n$). In order to find this best candidate, we use as an **objective function** the evidence lower bound (or ELBO, noted $\\mathcal{L}(q)$), a lower bound to the logprobability of the observations. Indeed, using Jensen's inequality thanks to the logarithm concavity, one can show that: $\\log p(x) \\geq \\mathcal{L}(q)$, with $\\mathcal{L}(q)$ the sum of two terms depending on $q(z,\\beta)$:\n",
    "\n",
    "$$\n",
    "\\mathcal{L}(q)=\\mathbb{E}_q[\\log p(x,z,\\beta)]-\\mathbb{E}_q[\\log q(z,\\beta)]\n",
    "$$\n",
    "\n",
    "Our reference article chooses to restrict $q(z,\\beta)$ to the simplest variational family, the so-called mean-field variational family. This implies that each hidden variable only depends on its own parameter ($\\lambda$ for the global hidden variables $\\beta$, $\\phi_{nj}$ for each local hidden variable $z_{nj}$) and is independent from the rest:\n",
    "\n",
    "$$\n",
    "q(z,\\beta)=q(\\beta | \\lambda) \\prod_{n=1}^N \\prod_{j=1}^J q(z_{nj}|\\phi_{nj})\n",
    "$$\n",
    "\n",
    "\n",
    "The unknown distributions $q(\\beta | \\lambda)$ and $q(z_{nj}|\\phi_{nj})$ are assumed to be in the same exponential family as the complete conditional distributions (with the same functions $t(.)$ and $h(.)$):\n",
    "\n",
    "\n",
    "$$\n",
    "q(\\beta | \\lambda) =h(\\beta) \\exp\\{\\lambda^T t(\\beta)-a_g(\\lambda)\\}\n",
    "$$\n",
    "\n",
    "$$\n",
    "q(z_{nj}|\\phi_{nj})=h(z_{nj}) \\exp\\{\\phi_{nj}^T t(z_{nj})-a_l(\\phi_{nj})\\}\n",
    "$$\n",
    "\n",
    "**Coordinate ascent**\n",
    "\n",
    "A classic approach is then to optimize the above-defined objective function $\\mathcal{L}(q)$ with respect to $\\lambda$ and $\\phi_n$, the variational parameters. This is usually performed with a coordinate ascent procedure, where each parameter is updated iteratively while holding the others fixed. All the assumptions made on the model, mean-field family and distributions (with corresponding conditional and variational distributions being in a same exponential family) were made to be able to perform this coordinate optimization in a closed form. Indeed, these assumptions enable us to rewrite the objective function $\\mathcal{L}(q)$ as a function of $\\lambda$ only ($\\mathcal{L}(\\lambda)$) to derive its gradient with respect to $\\lambda$ and similarly when it comes to $\\phi_{nj}$. Indeed, one can prove that:\n",
    "\n",
    "$$\n",
    "\\mathcal{L}(\\lambda)=\\mathbb{E}_q[\\eta_g(x,z,\\alpha)]^T\\nabla_{\\lambda} a_g(\\lambda)- \\lambda^T \\nabla_{\\lambda}a_g(\\lambda)+a_g(\\lambda)+\\text{const}\n",
    "$$\n",
    "\n",
    "Thus, we can derive:\n",
    "\n",
    "$$\n",
    "\\nabla_{\\lambda}\\mathcal{L}=\\nabla_{\\lambda}^2 a_g(\\lambda)(\\mathbb{E}_q[\\eta_g(x,z,\\alpha)]-\\lambda)\n",
    "$$\n",
    "\n",
    "Hence:\n",
    "$$\n",
    "\\nabla_{\\lambda}\\mathcal{L}=0  \\Leftrightarrow \\lambda=\\mathbb{E}_q[\\eta_g(x,z,\\alpha)](*)\n",
    "$$\n",
    "\n",
    "And similarly,\n",
    "\n",
    "\n",
    "$$\n",
    "\\nabla_{\\phi_{nj}}\\mathcal{L}=\\nabla_{\\phi_{nj}}^2 a_l(\\phi_{nj})(\\mathbb{E}_q[\\eta_l(x_n,z_{n,-j},\\beta)]-\\phi_{nj})\n",
    "$$\n",
    "\n",
    "Hence:\n",
    "$$\n",
    "\\nabla_{\\phi_{nj}}\\mathcal{L}=0  \\Leftrightarrow \\phi_{nj}=\\mathbb{E}_q[\\eta_l(x_n,z_{n,-j},\\beta)](**)\n",
    "$$\n",
    "\n",
    "$(*)$ and $(**)$ are the two equations that give the coordinate ascent updates. \n",
    "\n"
   ]
  },
  {
   "cell_type": "markdown",
   "metadata": {
    "id": "uylZ-GMQAc0U"
   },
   "source": [
    "**b) Stochastic optimization and natural gradient** \n",
    "\n",
    "In classical gradient ascent methods, updates have the form $\\lambda^{(t+1)} = \\lambda^{(t)} + \\rho \\nabla_\\lambda f\\left(\\lambda^{(t)}\\right)$, where the gradient points into the direction of the steepest ascent. It is then the same direction than the solution to the problem $\\arg \\max_{d\\lambda} f(\\lambda + d\\lambda) (*)$ subject to $||d\\lambda||^2 < \\varepsilon^2$. The issue of this optimization problem in our case lays in the definition of the distance: we want to measure the distance between two probability distributions, so the Euclidean distance can seem inappropriate.\n",
    "\n",
    "Instead, we're using the symmetrized KL divergence to define a new constraint to the optimization problem $(*)$ :\n",
    "$D_{KL}^{sym}\\left(\\lambda,\\lambda '\\right) = \\mathbb{E}_\\lambda\\left[\\log \\frac{q(\\beta|\\lambda)}{q(\\beta|\\lambda')}\\right] + \\mathbb{E}_{\\lambda'}\\left[\\log \\frac{q(\\beta|\\lambda')}{q(\\beta|\\lambda)}\\right]$. When using the constraint $D_{KL}^{sym}(\\lambda,\\lambda+d\\lambda) <\\varepsilon$, as $\\varepsilon \\rightarrow 0$, it has be shown that the solution of this new optimization problem points to the same direction than the natural gradient.\n",
    "\n",
    "Nevertheless, this constraint remains complicated and we manage it with a Riemann metric $G(\\lambda)$. This metric defines linear transformations of $\\lambda$ under which the squared Euclidean distance between $\\lambda$ and $\\lambda + d\\lambda$ is the symmetrized KL between $q(\\beta|\\lambda)$ and $q(\\beta|\\lambda + d\\lambda)$ :\n",
    "$$\n",
    "D_{KL}^{sym}(\\lambda,\\lambda+d\\lambda) = d\\lambda^T G(\\lambda)d\\lambda\n",
    "$$\n",
    "\n",
    "We now define the natural gradient. It is computed by multiplying the gradient by the inverse of the Riemannian metric :\n",
    "$$\n",
    "\\hat \\nabla_\\lambda f(\\lambda) = G^{-1}(\\lambda) \\nabla_\\lambda f(\\lambda)\n",
    "$$\n",
    "In our setting, $G(\\lambda)$ will be the Fisher information matrix of $q(\\lambda)$ : $G(\\lambda) = \\mathbb{E}_\\lambda \\left[\\left(\\nabla_\\lambda \\log q(\\beta|\\lambda)\\right)\\left(\\nabla_\\lambda \\log q(\\beta | \\lambda)\\right)^T\\right]$. Using a first-order Taylor approximation on $q(\\beta|\\lambda + d\\lambda)$ and $\\log q(\\beta|\\lambda + d\\lambda)$, and using a distribution $q(\\beta|\\lambda)$ from the exponential family precedently defined, we get : \n",
    "$$\n",
    "D_{KL}^{sym}(\\lambda,\\lambda+d\\lambda) = O(d\\lambda^3) + d\\lambda^T G(\\lambda) d\\lambda, ~~~ G(\\lambda) = \\nabla_\\lambda^2 a_g(\\lambda)\n",
    "$$\n",
    "\n",
    "We've seen previously that for an exponential family, the ELBO can by derived into the following : $\\nabla_\\lambda \\mathcal{L} = \\nabla_\\lambda^2 a_g(\\lambda) \\left(\\mathbb{E}_q\\left[\\eta_g(x,z,\\alpha)\\right]-\\lambda\\right)$. Then, according to the definition of the natural gradient, we have with respect to the global variational parameter $\\lambda$ :\n",
    "$$\n",
    "\\hat \\nabla_\\lambda \\mathcal{L} = \\mathbb{E}_\\phi \\left[ \\eta_g(x,z,\\alpha) \\right] - \\lambda\n",
    "$$\n",
    "With analogous computation for local variational parameters $\\phi_{n,j}$ :\n",
    "$$\n",
    "\\hat \\nabla_{\\phi_{nj}} \\mathcal{L} = \\mathbb{E}_{\\lambda, \\phi_{n,-j}} \\left[ \\eta_l(x_n,z_{n,-j},\\beta) \\right] - \\phi_{nj}\n",
    "$$\n"
   ]
  },
  {
   "cell_type": "markdown",
   "metadata": {
    "id": "1piUAadIOvWw"
   },
   "source": [
    "**Stochastic Variational Inference**\n",
    "\n",
    "Using stochastic optimization, we'll subsample data points form noisy estimates of the ELBO's natural gradient, with  decreasing step-sizes $\\rho_t$. \n",
    "\n",
    "Recalling the general setting of stochastic optimization, we write $f(\\lambda)$ the objective function (the one to optimize) and a random function $B(\\lambda)$ such that $\\mathbb{E}[B(\\lambda)] = \\nabla_\\lambda f(\\lambda)$. At each iteration $t$, drawing independently $b_t$ from $B$, we have :\n",
    "$$\n",
    "\\lambda^{(t)} = \\lambda^{(t-1)} + \\rho_t b_t(\\lambda^{(t-1)})\n",
    "$$\n",
    "Conditions on $\\rho_t$ (as defined p.1317 of the article) and the convexity of $f$ ensure to find a global or local optimum. The same result holds if we premultiply by $G_t^{-1}$, as it is a positive-definite matrix, $G_t$ being Fisher metrics as defined previously. We then have :\n",
    "$$\n",
    "\\lambda^{(t)} = \\lambda^{(t-1)} + \\rho_t G_t^{-1} b_t(\\lambda^{(t-1)})\n",
    "$$\n",
    "\n",
    "\n",
    "Pluggin in the results of noisy natural gradients on stochastic optimization, we are then able to optimize the variational objective function. To find the global parameters setting maximizing the ELBO, we want to find $\\lambda$ such that $\\nabla_\\phi \\mathcal{L}\\left(\\lambda,\\phi(\\lambda)\\right) = 0$, the function $\\phi$ returning a local optimum of the variational parameters. We then define the locally maximized ELBO $\\mathcal{L}(\\lambda)$ as the ELBO where $\\lambda$ is fixed and $\\phi(\\lambda)$ is the local optimum : $\\mathcal{L}(\\lambda)=\\mathcal{L}\\left(\\lambda,\\phi(\\lambda)\\right)$. \n",
    "\n",
    "The maximized ELBO can be written as the sum of a global and local terms :\n",
    "$$\n",
    "\\mathcal{L}(\\lambda) = \\mathbb{E}_q\\left[\\log p(\\beta)\\right] - \\mathbb{E}_q\\left[\\log q(\\beta)\\right] + \\sum_{i=1}^N \\max_{\\phi_n} \\left( \\mathbb{E}_q\\left[\\log p(x_n,z_n|\\beta)\\right] - \\mathbb{E}_q\\left[\\log q(z_n)\\right] \\right)\n",
    "$$\n",
    "Considering the random variable $I\\sim\\mathcal{U}\\left(\\{1,...,N\\}\\right)$ drawing randomly an index from the dataset, we can define a noisy natural gradient :\n",
    "$$\n",
    "\\mathcal{L}_I(\\lambda) = \\mathbb{E}_q\\left[\\log p(\\beta)\\right] - \\mathbb{E}_q\\left[\\log q(\\beta)\\right] + N \\max_{\\phi_n} \\left( \\mathbb{E}_q\\left[\\log p(x_I,z_I|\\beta)\\right] - \\mathbb{E}_q\\left[\\log q(z_I)\\right] \\right)\n",
    "$$\n",
    "This results holds thanks to an equality in expectations of the local term. We can then use noisy estimates of the $\\hat\\nabla_\\lambda \\mathcal{L}$ with $\\hat\\nabla_\\lambda \\mathcal{L}_I$, and using the expressions found earlier on the dataset $\\left\\{(x_I^{(N)},z_I^{(N)}\\right\\}$ formed of $N$ repetitions of the data point indexed by $I$, we have according to the expression of $\\eta_g$ :\n",
    "$$\n",
    "\\hat\\nabla_\\lambda \\mathcal{L}_I = \\mathbb{E}_q\\left[\\eta_g(x_I^{(N)},z_I^{(N)},\\alpha)\\right] - \\lambda = \\alpha + N \\left(\\mathbb{E}_{\\phi_I(\\lambda)}\\left[t(x_I,z_I)\\right],1\\right) - \\lambda\n",
    "$$\n",
    "\n",
    "We can see that the noisy natural gradient only uses the I-th data point sampled from the original dataset as well as its corresponding local optimum $\\phi_I(\\lambda)$, whereas the full natural gradient would consider all of the data points. As a consequence, it is computationally cheaper to use noisy natural gradients.\n",
    "\n",
    "The conclusion to all of these considerations is a new update in the stochastic optimization algorithm, using noisy intermediate estimates of $\\lambda$ that we write $\\hat\\lambda_t$. As we're trying to maximize the local ELBO $\\mathcal{L}_I$, we want its gradient to equal 0, which, according to the previous equation, gives us $\\hat\\lambda_t = \\alpha + N \\left(\\mathbb{E}_{\\phi_I(\\lambda)}\\left[t(x_I,z_I)\\right],1\\right)$. Plugging that definition into the general update rule, we finally get the update for our stochastic variational inference optimization algorithm :\n",
    "$$\n",
    "\\lambda^{(t)} = \\lambda^{(t-1)} + \\rho_t\\left(\\hat\\lambda_t - \\lambda^{(t-1)}\\right) = (1-\\rho_t)\\lambda^{(t-1)} + \\rho_t\\hat\\lambda_t \n",
    "$$\n",
    "\n",
    "Finally, the proposed algorithm :\n",
    "\n",
    "* Initialize $\\lambda^{(0)}$ randomly.\n",
    "* Set step-size schedule $\\rho_t$ appropriately.\n",
    "* $\\textbf{Repeat}$\n",
    "  * Sample a document $x_i$ uniformly from the dataset.\n",
    "  * Compute its local variational parameter : $\\phi = \\mathbb{E}_{\\lambda^{(t-1)}} \\left[\\eta_g(x_i^{(N)},z_i^{(N)})\\right]$\n",
    "  * Compute intermediate global parameters as though $x_i$ is replicated $N$ times : $\\hat\\lambda = \\mathbb{E}_{\\phi} \\left[\\eta_g(x_i^{(N)},z_i^{(N)})\\right]$\n",
    "  * Update the current estimate of the global variaitional parameters : $\\lambda^{(t)} = (1-\\rho_t)\\lambda^{(t-1)} + \\rho_t \\hat\\lambda$\n",
    "* $\\textbf{until}$ forever"
   ]
  },
  {
   "cell_type": "markdown",
   "metadata": {
    "id": "lXgPDQC6Aejx"
   },
   "source": [
    "**c) Topic model**"
   ]
  },
  {
   "cell_type": "markdown",
   "metadata": {
    "id": "KUDfZWBsXvyE"
   },
   "source": [
    "Topic modeling is a probabilistic modeling technique used in Natural Language Processing to detect recurring patterns of word usage in collections of documents, without prior knowledge of the content. The goal is to discover underlying topics in the text data. This technique can be used for descriptive tasks, such as creating thematic navigators of large document collections, as well as for predictive tasks, like document classification. \n",
    "\n",
    "Latent Dirichlet Allocation (LDA) is a widely used algorithm for topic modeling. It is an unsupervised probabilistic model that shares some similarities with clustering algorithms (Expectation-Maximization), as both use iterative optimization. However, these methods differ in their model structures. LDA works by assuming that each document is a mixture of multiple topics, and that each topic is a probability distribution over a set of words. It uses Dirichlet distribution to find topics for each document and words for each topic. The Dirichlet distribution of order $K$ with parameters $\\gamma_1, ..., \\gamma_K > 0$ has a probability density function with respect to Lebesgue measure given by:\n",
    "\n",
    "$$ \\text{Dirichlet}(\\theta; \\gamma) = \\frac{\\Gamma\\biggl(\\sum_{i=1}^{K} \\gamma_i\\biggr)}{\\prod_{i=1}^{K} \\Gamma(\\gamma_i)} \\prod_{i=1}^{K} \\theta_i^{\\gamma_i - 1} $$\n",
    "\n",
    "where $\\theta$ belongs to the standard $K-1$ simplex.\n",
    "\n",
    "\n",
    "$\\textbf{Notation}$ : \n",
    "* $\\alpha$ and $\\eta$ are parameters of the prior distributions over $\\theta$ and $\\beta$\n",
    "* $w_{d,n}$ is the $n$th word of the $d$th document\n",
    "* $z_{d,n}$ is the index of the topic for the $n$th word in the $d$th document\n",
    "* $\\beta_k$ is the distribution of words for topic $k$ (vector of length $V$)\n",
    "* $\\theta_d$ is the distribution of topics for document $d$ (vector of length $K$)\n",
    "\n",
    "\n",
    "![LDA](https://i.stack.imgur.com/3Qny2.png)\n",
    "\n",
    "It is assumed that there are a total of $V$ different words in the vocabulary, that these words can be drawn and that there are $D$ documents. Each document is assumed to be composed of a mixture of these $K$ topics. Specifically, for each document $d$, we have a vector $\\theta_d$ whose elements represent the proportion of the document that is made up of each topic. Finally, we assume that each word in each document was drawn from a unique topic. \n",
    "\n",
    "The generative process for LDA is then:\n",
    "* Draw topics $\\beta_k \\sim \\text{Dirichlet}(\\eta,\\dots,\\eta)$ for $k \\in \\left\\{1,\\dots,K\\right\\}$.\n",
    "* For each document $d \\in \\left\\{1,\\dots,D\\right\\}$:\n",
    "  * Draw topic proportions $\\theta_d \\sim \\text{Dirichlet}(\\alpha,\\dots,\\alpha)$.\n",
    "  * For each word $n$ in document $d$:\n",
    "    * Draw a topic assignment $z_{dn} \\sim \\text{Multinomial}(\\theta_d)$.\n",
    "    * Draw a word $w_{dn} \\sim \\text{Multinomial}(\\beta_{z_{dn}})$.\n",
    "\n"
   ]
  },
  {
   "cell_type": "markdown",
   "metadata": {
    "id": "6DSPGh7AXd9x"
   },
   "source": [
    "## 3) Proposed algorithm\n",
    "\n",
    "In this section, we extend the stochastic variational inference algorithm for the LDA topic model. Computing the posterior distribution of LDA is often intractable, which presents a central computational challenge in topic modeling. To address this challenge, various approximation methods, such as Markov chain Monte Carlo and variational inference, have been developed. One such method is stochastic variational inference for LDA, which is a scalable version of the original variational algorithm that can handle large collections of documents. This method uses mean-field variational inference and assumes that the complete conditional is in the exponential family as discussed in previous sections. Assuming the same distributional assumptions as in the previous sections for the variables and using the first derivative of the log Gamma function, $\\Psi(\\cdot)$:\n",
    "$$\n",
    "\\mathbb{E}\\left[ \\log \\theta_k \\mid \\gamma \\right] = \\Psi\\left(\\gamma_{k}\\right) - \\Psi\\left(\\sum_{i=1}^{K} \\gamma_{i}\\right)\n",
    "$$\n",
    "\n",
    "The authors have shown the following equations:\n",
    "\n",
    "\n",
    "$$ \\phi_{k,d,n} \\propto \\exp \\left\\{ \\Psi \\left( \\gamma_{d,k}\\right) + \\Psi \\left( \\lambda_{k,w_{d,n}}\\right) - \\Psi\\left(\\sum_v \\lambda_{k,v}\\right) \\right\\} \\text{ for } n \\in \\{1, \\dots, N\\} $$\n",
    "\n",
    "$$ \\gamma_{d} = \\alpha + \\sum_{n=1}^{N} \\phi_{d,n} $$\n",
    "\n",
    "\n",
    "$$ \\lambda_{k} = \\eta + \\sum_{d=1}^{D} \\sum_{n=1}^{N} \\phi^{k}_{d,n} w_{d,n} $$\n",
    "\n",
    "where the parameter $\\lambda_{k}$ represents the Dirichlet distribution parameters for the variational distribution of the topic $\\beta_{k}$. It gives the following stochastic variational inference algorithm for LDA:\n",
    "\n",
    "**Algorithm**\n",
    "\n",
    "* Initialize $\\lambda^{(0)}$ randomly.\n",
    "* Set step-size schedule $\\rho_t$ appropriately.\n",
    "* $\\textbf{Repeat}$\n",
    "  * Sample a document $w_d$ uniformly from the dataset.\n",
    "  * Initialize $\\gamma_{d,k} = 1$, for $k \\in {1, ..., K}$.\n",
    "  * $\\textbf{Repeat}$\n",
    "    * For $n \\in { 1, ..., N }$ set :\n",
    "      * $\\phi_{d,n,k} \\propto \\exp({\\mathbb{E}[\\log\\theta_{d,k}] + \\mathbb{E}[\\log\\beta_{k,w_{d,n}}]})$,  $k \\in {1, ..., K}$.\n",
    "\n",
    "    * Set $\\gamma_d = \\alpha + \\sum_n \\phi_{d,n}$.\n",
    "\n",
    "  * $\\textbf{until}$ local parameters $\\phi_{d,n}$ and $\\gamma_d$ converge\n",
    "  * For $k \\in {1, ..., K}$ set intermediate topics :\n",
    "    * $\\hat{\\lambda_{k}} = \\eta + D \\sum_{n} \\phi^{k}_{d,n} w_{d,n}$.\n",
    "  * Set $\\lambda^{(t)} = (1 - \\rho_t)\\lambda^{(t-1)} + \\rho_t\\hat{\\lambda}$.\n",
    "* $\\textbf{until}$ forever\n",
    "\n"
   ]
  },
  {
   "cell_type": "markdown",
   "metadata": {
    "id": "SJDReYPeXv2g"
   },
   "source": [
    "## 4) Implementation\n",
    "\n",
    "In this section, we chose to implement the stochastic variational inference algorithm for LDA, as described at the end of the previous section. "
   ]
  },
  {
   "cell_type": "code",
   "execution_count": 1,
   "metadata": {
    "colab": {
     "base_uri": "https://localhost:8080/"
    },
    "id": "GRqrWwTqNE6K",
    "outputId": "e4093e6c-c250-4e4a-c6b7-feb5fd0ad32b"
   },
   "outputs": [
    {
     "name": "stderr",
     "output_type": "stream",
     "text": [
      "[nltk_data] Downloading package stopwords to\n",
      "[nltk_data]     /users/Etu4/3310264/nltk_data...\n",
      "[nltk_data]   Package stopwords is already up-to-date!\n"
     ]
    }
   ],
   "source": [
    "\"\"\"\"\"\"\"\"\"\"\"\"\"\"\"\"\"\n",
    "Required packages\n",
    "\"\"\"\"\"\"\"\"\"\"\"\"\"\"\"\"\"\n",
    "import time\n",
    "import json\n",
    "import pickle\n",
    "import numpy as np\n",
    "import matplotlib.pyplot as plt\n",
    "from sklearn import datasets\n",
    "import nltk\n",
    "nltk.download('stopwords')\n",
    "from nltk.tokenize import wordpunct_tokenize\n",
    "from nltk.corpus import stopwords\n",
    "from scipy.special import digamma \n",
    "from scipy.stats import dirichlet\n",
    "from sklearn.model_selection import train_test_split\n",
    "from tqdm import tqdm\n",
    "import string\n",
    "import pandas as pd"
   ]
  },
  {
   "cell_type": "code",
   "execution_count": 2,
   "metadata": {},
   "outputs": [],
   "source": [
    "# Get the working directory's path whether one uses Google Colab or not\n",
    "\n",
    "if get_ipython().__class__.__module__ == \"google.colab._shell\":\n",
    "    from google.colab import drive\n",
    "    drive.mount('/content/drive')\n",
    "    path = '/content/drive/MyDrive/modgen/'\n",
    "else:\n",
    "    import os\n",
    "    path = os.getcwd() "
   ]
  },
  {
   "cell_type": "markdown",
   "metadata": {
    "id": "6BpAWQNym4zC"
   },
   "source": [
    "* **Datasets**\n",
    "\n",
    "To implement the algorithm, we chose to use collections of articles or media posts, under the format of a list of strings. Let us first mention that we chose to use datasets that have thematic labels for each document or article. This choice was made in order to make the hyperparameter selection and the result evaluation phases easier. Indeed, the number of different thematic labels gave us a first indication on what could be a good choice for the K parameter (number of topics to evaluate). Furthermore, having a thematic list will help us evaluate (quite \"subjectively\") if the topic list found seems to display similar themes.\n",
    "\n",
    "Our first dataset, **20 newsgroup**, contains 11,314 media posts (\"tweet\" like short messages), for a total of 3,135,979 words. For each post, a thematic label among 20 in total is given (cf the code below for the complete thematic list). It is available on scikit-learn. Its media posts being quite short (80 to 300 words), this was a way to develop and test our code on a light dataset. Our very first experiment was even made on a subsection of this dataset, restrained to $\\approx$ 1000 media posts labelled with 2 different themes only (such as religion and medecine for instance). This subdataset still accounts for a total of 337,979 words."
   ]
  },
  {
   "cell_type": "code",
   "execution_count": 32,
   "metadata": {},
   "outputs": [
    {
     "name": "stdout",
     "output_type": "stream",
     "text": [
      "\n",
      "List of the 20 thematic labels:\n",
      "['alt.atheism', 'comp.graphics', 'comp.os.ms-windows.misc', 'comp.sys.ibm.pc.hardware', 'comp.sys.mac.hardware', 'comp.windows.x', 'misc.forsale', 'rec.autos', 'rec.motorcycles', 'rec.sport.baseball', 'rec.sport.hockey', 'sci.crypt', 'sci.electronics', 'sci.med', 'sci.space', 'soc.religion.christian', 'talk.politics.guns', 'talk.politics.mideast', 'talk.politics.misc', 'talk.religion.misc']\n",
      "\n",
      "Dimension of the 20 newsgroup dataset:\n",
      " 11314 media posts\n",
      "\n",
      "Visualization of a sample media post from the dataset:\n",
      "I was wondering if anyone out there could enlighten me on this car I saw\n",
      "the other day. It was a 2-door sports car, looked to be from the late 60s/\n",
      "early 70s. It was called a Bricklin. The doors were really small. In addition,\n",
      "the front bumper was separate from the rest of the body. This is \n",
      "all I know. If anyone can tellme a model name, engine specs, years\n",
      "of production, where this car is made, history, or whatever info you\n",
      "have on this funky looking car, please e-mail.\n"
     ]
    }
   ],
   "source": [
    "news = datasets.fetch_20newsgroups(remove=('headers','footers','quotes'))\n",
    "print(\"\\nList of the 20 thematic labels:\")\n",
    "print(list(news.target_names))\n",
    "print(\"\\nDimension of the 20 newsgroup dataset:\\n\", len(news.target), \"media posts\")\n",
    "print(\"\\nVisualization of a sample media post from the dataset:\")\n",
    "print(news.data[0])"
   ]
  },
  {
   "cell_type": "markdown",
   "metadata": {},
   "source": [
    "Our second dataset, **BBC News Archive** is made of 2,225 news article from the BBC, for a total of 943,501 words. The articles were much longer in this dataset (from a minimum of 500 words to a maximum of 25,483, with an average length of 2,262 words). As a result, this dataset was much closer to the type of data described in the article. Let us still note that the number of articles available in this collection is very limited in terms of magnitude when compared to the collections used in the reference paper (i.e. 350,000 articles from Nature, 1.8M articles from the New York Times, 3.8M articles from Wikipedia).\n",
    "\n",
    "This dataset is labelled with each article being given a theme among the following five: **business, entertainment, politics, sport and tech**. As a side note, this dataset was found on a kaggle contest webpage (https://www.kaggle.com/datasets/hgultekin/bbcnewsarchive) and after some preprocessing we worked on the basis of a single csv file, named \"bbc-news-data.csv\", given along this notebook. **One should put the 'bbc-news-data.csv' csv file in a folder named 'BBC_data' next to this notebook**.\n"
   ]
  },
  {
   "cell_type": "code",
   "execution_count": 4,
   "metadata": {},
   "outputs": [
    {
     "name": "stdout",
     "output_type": "stream",
     "text": [
      "\n",
      "Dimension of the BBC news dataset: \n",
      " 2225 news articles\n",
      "\n",
      "Visualization of a sample article from the dataset:\n",
      "worldcom ex-boss launches defence lawyers defending former worldcom chief bernie ebbers against a battery of fraud charges have called a company whistleblower as their first witness.  cynthia cooper  worldcom s ex-head of internal accounting  alerted directors to irregular accounting practices at the us telecoms giant in 2002. her warnings led to the collapse of the firm following the discovery of an $11bn (£5.7bn) accounting fraud. mr ebbers has pleaded not guilty to charges of fraud and conspiracy.  prosecution lawyers have argued that mr ebbers orchestrated a series of accounting tricks at worldcom  ordering employees to hide expenses and inflate revenues to meet wall street earnings estimates. but ms cooper  who now runs her own consulting business  told a jury in new york on wednesday that external auditors arthur andersen had approved worldcom s accounting in early 2001 and 2002. she said andersen had given a  green light  to the procedures and practices used by worldcom. mr ebber s lawyers have said he was unaware of the fraud  arguing that auditors did not alert him to any problems.  ms cooper also said that during shareholder meetings mr ebbers often passed over technical questions to the company s finance chief  giving only  brief  answers himself. the prosecution s star witness  former worldcom financial chief scott sullivan  has said that mr ebbers ordered accounting adjustments at the firm  telling him to  hit our books . however  ms cooper said mr sullivan had not mentioned  anything uncomfortable  about worldcom s accounting during a 2001 audit committee meeting. mr ebbers could face a jail sentence of 85 years if convicted of all the charges he is facing. worldcom emerged from bankruptcy protection in 2004  and is now known as mci. last week  mci agreed to a buyout by verizon communications in a deal valued at $6.75bn.\n"
     ]
    }
   ],
   "source": [
    "bbc = pd.read_csv(path+'/BBC_data/bbc-news-data.csv')['Text'].values\n",
    "print(\"\\nDimension of the BBC news dataset: \\n\", len(bbc), \"news articles\")\n",
    "print(\"\\nVisualization of a sample article from the dataset:\")\n",
    "print(bbc[0])"
   ]
  },
  {
   "cell_type": "markdown",
   "metadata": {},
   "source": [
    "* **Details on the algorithm implementation**\n",
    "\n",
    "When implementing the stochastic variational inference for LDA, the computation of the $\\phi_{d,n,k} \\propto \\exp({\\mathbb{E}[\\log\\theta_{d,k}] + \\mathbb{E}[\\log\\beta_{k,w_{d,n}}]})$ is to be considered carefully. \n",
    "\n",
    "First, we have to set two Dirichlet variables ($\\theta$ and $\\beta$) to the logarithm before taking the expectation. We could implement these expectations through the formula given in the paper p.1325, equation (27): $\\mathbb{E}[\\log\\theta_{k}|\\gamma]= 𝚿(\\gamma_k)- 𝚿(\\sum_{i=1}^K \\gamma_i)$. The same formula applies for $\\mathbb{E}[\\log\\beta_{k,w_{d,n}}|\\lambda]$. (In the code, we named these equations E1 and E2 respectively).\n",
    "\n",
    "A second issue is due to the $\\propto$ relation that required us to normalize the $\\phi_{n,k}$ values to avoid explosive values. We chose to normalize, for a fixed $n$, the $\\phi_{n,k}$ values by the sum of all $\\phi_{n,k}$ for $k \\in \\{1,...,K\\}$ (this is the 1-norm as all $\\phi_{n,k}\\geq0$). This enabled us to avoid any nan values in our experiments. \n",
    "\n",
    "Finally, let us note that the algorithm starts with the initialization of $\\lambda^{(0)}$ randomly. However, as given in the article, the algorithm does not specify how to draw such $\\lambda^{(0)}$. After some tests, we chose to initialize via the uniform law (with bounds 0.5 and 1.5)."
   ]
  },
  {
   "cell_type": "markdown",
   "metadata": {},
   "source": [
    "* **Metric** \n",
    "\n",
    "We included in our code a function (named 'log\\_prob') to compute the metric described in the paper, p. 1336, in order to evaluate the model fitness. As our algorithm returns K distributions over the vocabulary (i.e. K topics) after learning on the training dataset, the metric finetunes the found distribution on a subset of unique words taken from a test document, named $w_{obs}$ words, before evaluating the log probability of the other unseen words of the same test document, named $w_{ho}$, under this finetuned distribution. The probability of a $w_{ho}$ word is defined as:\n",
    "\n",
    "$$p(w_{ho}|\\mathcal{D}, w_{obs}) ≈ \\sum_{k=1}^K \\mathbb{E}_q[\\theta_k]  \\mathbb{E}_q[\\beta_{k,w_{ho}}]$$\n",
    "\n",
    "with $q(\\beta)$ depending on the training data $\\mathcal{D}$ and $q(\\theta)$ depending on $q(\\beta)$ and $w_{obs}$. Furthermore, the formula that we used to compute the expectation of a Dirichlet variable like $\\theta$ and $\\beta$ is, as given in the paper p.1325: \n",
    "\n",
    "$$\\mathbb{E}_q[\\theta_k|\\gamma]=\\frac{\\gamma_k}{\\sum_{i=1}^K \\gamma_i}$$\n",
    "\n",
    "Finally, let us note that this metric, based on the progression of the log probability of unseen data, can be used to make sure that it is indeed increasing through training and that it stabilizes at the end. This phenomenon can be seen on the paper's curves such as in figure 7 p.1328 and we will show later that we found similar results. The stabilization of the log probability itself enables us to know that the training has converged towards a local optimum, but this metric cannot prove that the algorithm's results will be satisfying. As this algorithm is related to unsupervised learning, it is hard to evaluate its quality. Again, this is the reason why we chose to work with datasets that have thematic labels. Though different from topics, these labels will help us evaluate subjectively whether the found results seem satisfying."
   ]
  },
  {
   "cell_type": "markdown",
   "metadata": {},
   "source": [
    "* **Hyperparameters**\n",
    "\n",
    "**K** is the number of topics to compute. Though K=100 is recommended in the article, we chose most of the time to set K to the number of labels. \n",
    "\n",
    "**alpha** is the dirichlet prior for $\\beta$. We followed the article's recommendation to set it to 1/K.\n",
    "\n",
    "**eta** is the dirichlet prior for $\\theta$. We followed the article's recommendation to set it to 0.01.\n",
    "\n",
    "**T** is a parameter that we used to encode the maximal number of iterations in both our update loops (local and global) for simplicity.\n",
    "\n",
    "**epsilon** is a threashold parameter that we used to stop our update loops if the gamma values did not evolve or to avoid dividing $\\phi_{n,k}$ by a value that is too small during its normalization phase. \n",
    "\n",
    "2 parameters control the learning rate **rho_t** since we defined it, like in the reference paper, as: $\\rho_t=(t+\\tau)^{-κ}$.\n",
    "\n",
    "The **forgetting_rate** $κ$ controls the speed at which the algorithm should forget old values. $κ$=0.5 or 0.6 is recommended in the article but we chose a higher value of 1 as it appeared to us that it led to better results after running comparative tests. As a result, our algorithm will forget more slowly the old information than in the article. \n",
    "\n",
    "**tau** ($\\tau \\geq0$) is a delay that is meant to down-weight the impact of early iterations. As in the paper, we used tau=1."
   ]
  },
  {
   "cell_type": "markdown",
   "metadata": {},
   "source": [
    "### a) Pre-processing the dataset and vocabulary\n",
    "\n",
    "**Warning**: This section requires heavy computations. Therefore, one can avoid running the cells from this section as the results of this preprocessing phase can be directly loaded after section a)."
   ]
  },
  {
   "cell_type": "markdown",
   "metadata": {},
   "source": [
    "* **Loading the desired dataset**\n",
    "\n",
    "The user can choose which dataset to use, through the CHOSEN_DATASET global variable, among :\n",
    "\n",
    "* a subsection of 10% of the 20 newsgroup dataset with a 'small' vocabulary of $\\approx$ 2,100 words (\"20NG_2_themes_small_vocab\")\n",
    "\n",
    "* a subsection of 10% of the 20 newsgroup dataset with a 'large' vocabulary of $\\approx$ 3,700 words (\"20NG_2_themes_large_vocab\")\n",
    "\n",
    "* the entire 20 newsgroup dataset (\"20NG\")\n",
    "\n",
    "* the BBC news dataset (\"bbc\"). "
   ]
  },
  {
   "cell_type": "code",
   "execution_count": 3,
   "metadata": {},
   "outputs": [],
   "source": [
    "# GLOBAL VARIABLE DEFINITION\n",
    "# Choose among \"bbc\", \"20NG\", \"20NG_2_themes_small_vocab\", \"20NG_2_themes_large_vocab\"\n",
    "\n",
    "CHOSEN_DATASET = \"bbc\" "
   ]
  },
  {
   "cell_type": "code",
   "execution_count": 4,
   "metadata": {},
   "outputs": [],
   "source": [
    "# Loading the chosen dataset\n",
    "\n",
    "if CHOSEN_DATASET==\"20NG\": \n",
    "    newsgroups = datasets.fetch_20newsgroups(subset='train', remove=('headers','footers','quotes'))\n",
    "    dataset = newsgroups.data\n",
    "    K=20\n",
    "    save_path=path+'/20NG_data/'\n",
    "    max_freq, min_freq = 1, 1e-5 # limit frequencies of kept words in the vocabulary\n",
    "    \n",
    "elif CHOSEN_DATASET==\"20NG_2_themes_small_vocab\": \n",
    "    cats = ['sci.med', 'soc.religion.christian']\n",
    "    newsgroups = datasets.fetch_20newsgroups(subset='train', remove=('headers','footers','quotes'),categories=cats)\n",
    "    dataset = newsgroups.data\n",
    "    K=2\n",
    "    save_path=path+'/20NG_2_themes_data/'\n",
    "    max_freq, min_freq = 1, 1e-4 # for a vocabulary of 2162 words\n",
    "    \n",
    "elif CHOSEN_DATASET==\"20NG_2_themes_large_vocab\": \n",
    "    cats = ['sci.med', 'soc.religion.christian']\n",
    "    newsgroups = datasets.fetch_20newsgroups(subset='train', remove=('headers','footers','quotes'),categories=cats)\n",
    "    dataset = newsgroups.data\n",
    "    K=2\n",
    "    save_path=path+'/20NG_2_themes_data/'\n",
    "    max_freq, min_freq = 1, 1e-5*5 # for a vocabulary of 3747 words\n",
    "    \n",
    "elif CHOSEN_DATASET==\"bbc\": \n",
    "    save_path=path+'/BBC_data/'\n",
    "    dataset = pd.read_csv(save_path+'bbc-news-data.csv')['Text'].values\n",
    "    K=5\n",
    "    max_freq, min_freq = 1, 1e-5 "
   ]
  },
  {
   "cell_type": "code",
   "execution_count": 5,
   "metadata": {
    "id": "5ay5QljLEfwN"
   },
   "outputs": [],
   "source": [
    "# Lower and tokenize the data if documents are under string format (on a sentence-level)\n",
    "\n",
    "def lower_tokenize_dataset(dataset):\n",
    "    \"\"\"\n",
    "    Inputs\n",
    "    ----------\n",
    "    dataset: chosen dataset as a list of articles or posts (in string format)\n",
    "\n",
    "    Outputs\n",
    "    -------\n",
    "    tokenized_dataset: dataset as a list of lists of tokenized, lower-case, words\n",
    "    \"\"\"\n",
    "    \n",
    "    tokenized_dataset=[]\n",
    "    for document in dataset:\n",
    "        document = document.lower() # set all words to lowercase\n",
    "        # let's tokenize: each post is transformed from a sentence-level string to a list of word-level strings\n",
    "        document = wordpunct_tokenize(document) \n",
    "        tokenized_dataset.append(document)\n",
    "    return tokenized_dataset"
   ]
  },
  {
   "cell_type": "code",
   "execution_count": 6,
   "metadata": {
    "id": "gHLHylEnJbdK"
   },
   "outputs": [],
   "source": [
    "tokenized_dataset = lower_tokenize_dataset(dataset)"
   ]
  },
  {
   "cell_type": "code",
   "execution_count": 7,
   "metadata": {
    "id": "dhEiUJTcJdta"
   },
   "outputs": [],
   "source": [
    "np.random.seed(0) \n",
    "train_dataset, test_dataset = train_test_split(tokenized_dataset, test_size=0.1, shuffle=True)"
   ]
  },
  {
   "cell_type": "markdown",
   "metadata": {
    "id": "FpaBP39ErO8o"
   },
   "source": [
    "* **Extracting the Vocabulary**\n",
    "\n",
    "As recommended in the article, we used a 'stopword' list of words that should not be included in the vocabulary as they are very common and have low semantic meaning, such as \"with\", \"for\", etc. We added to the native stopword list of the NLTK library (179 words), a stopword list of 851 words that we found at the following link: https://countwordsfree.com/stopwords. **One should have the file 'stop_words_english.json' in the same directory as this notebook.**\n",
    "\n",
    "Furthermore, the variables **max_freq** and **min_freq** (defined in a python cell above) are the limit frequencies of kept words in the built vocabulary for each dataset. As in the article, filtering according to the frequency will enable us to reduce the size of the vocabulary. Computations will be faster and results better if we make sure that we keep the words with the most semantic values. This frequency filter made the BBC vocabulary go from $\\approx$ 25,000 words to $\\approx$ 10,000 words, the (complete) 20 newsgroup vocabulary go from $\\approx$ 78,000 words to $\\approx$ 11,500 words. We tried two different frequency filters for the 20 newsgroup dataset restrained to 2 themes ; these filters made its vocabulary go from $\\approx$ 17,000 words to $\\approx$ 3,700 words (for a 'large' vocabulary) or to $\\approx$ 2,100 words (for a 'small' vocabulary). We chose to build vocabularies of such sizes, in order to be close to the length of the article's vocabularies (ranging between 4,200 and 8,000 words). "
   ]
  },
  {
   "cell_type": "code",
   "execution_count": 8,
   "metadata": {
    "id": "gcAtydcGJuHP"
   },
   "outputs": [],
   "source": [
    "# List of stopwords\n",
    "nltk_stopwords = (stopwords.words('english'))\n",
    "with open('stop_words_english.json') as stop_file:\n",
    "    additional_stopwords = json.load(stop_file)\n",
    "our_stopwords = nltk_stopwords+additional_stopwords\n",
    "\n",
    "# List of punctuations\n",
    "Punctuations = list(string.punctuation)"
   ]
  },
  {
   "cell_type": "code",
   "execution_count": 9,
   "metadata": {
    "id": "GNS2y2zSJzcs"
   },
   "outputs": [],
   "source": [
    "def extract_vocab(dataset, max_freq=1, min_freq=0, our_stopwords=our_stopwords, Punctuations=Punctuations):\n",
    "    \"\"\"\n",
    "    Inputs\n",
    "    ----------\n",
    "    dataset: dataset as a list of lists of tokenized, lower-case, words\n",
    "    max_freq: frequency upper bound of kept words in the vocabulary\n",
    "    min_freq: frequency lower bound of kept words in the vocabulary\n",
    "    our_stopwords: list of words to erase from the vocabulary\n",
    "    Punctuations: list of punctuation caracters to erase from the vocabulary and kept words\n",
    "    \n",
    "    Outputs\n",
    "    -------\n",
    "    Vocabulary_list: Final vocabulary as a list of words (under string format)\n",
    "    \"\"\"\n",
    "    \n",
    "    Vocabulary = {} # declare Vocabulary as a dictionary\n",
    "    for document in dataset:\n",
    "        for word in document:\n",
    "            # remove punctuations and stopwords\n",
    "            if word not in Punctuations and word not in our_stopwords:\n",
    "                # remove punctuations that were left in the vocabulary's tokens\n",
    "                word = word.translate(str.maketrans('', '', ''.join(Punctuations)))\n",
    "                # remove empty words or words with less than 4 caracters\n",
    "                if len(word)>3:\n",
    "                    if word in Vocabulary.keys():\n",
    "                        Vocabulary[word]+=1\n",
    "                    else:\n",
    "                        Vocabulary[word]=1\n",
    "\n",
    "    # let's remove the words that are too frequent or too rare\n",
    "    Nb_words = sum(Vocabulary.values())\n",
    "    for key in list(Vocabulary.keys()):\n",
    "        if (Vocabulary[key]/Nb_words>max_freq) or (Vocabulary[key]/Nb_words<min_freq):\n",
    "            Vocabulary.pop(key)\n",
    "    \n",
    "    Vocabulary_list = list(Vocabulary.keys())\n",
    "    \n",
    "    return Vocabulary_list"
   ]
  },
  {
   "cell_type": "code",
   "execution_count": 10,
   "metadata": {
    "colab": {
     "base_uri": "https://localhost:8080/"
    },
    "id": "ElAa4KOUwlyX",
    "outputId": "0d409d66-c1f6-4411-c83f-73a0a01dab35"
   },
   "outputs": [
    {
     "name": "stdout",
     "output_type": "stream",
     "text": [
      "Number of words in the Vocabulary: V= 2162\n"
     ]
    }
   ],
   "source": [
    "Vocabulary = extract_vocab(train_dataset, max_freq=max_freq, min_freq=min_freq)\n",
    "print(\"Number of words in the Vocabulary: V=\", len(Vocabulary))"
   ]
  },
  {
   "cell_type": "markdown",
   "metadata": {
    "id": "asuLGroY9uZ0"
   },
   "source": [
    "* **Words encoding**"
   ]
  },
  {
   "cell_type": "code",
   "execution_count": 11,
   "metadata": {
    "id": "ZO86aK5w0eIc"
   },
   "outputs": [],
   "source": [
    "def onehot_encoding_word(voc, word):\n",
    "    \"\"\"\n",
    "    Inputs\n",
    "    ----------\n",
    "    voc: vocabulary\n",
    "    word: word under string format to encode\n",
    "    \n",
    "    Outputs\n",
    "    -------\n",
    "    idx: integer index of the word in the vocabulary\n",
    "    \"\"\"\n",
    "    \n",
    "    idx = np.where(np.array(voc) == word)[0][0]\n",
    "    return idx\n",
    "\n",
    "def onehot_encoding_doc(voc, doc):\n",
    "    \"\"\"\n",
    "    Inputs\n",
    "    ----------\n",
    "    voc: vocabulary\n",
    "    doc: document (article or post) to encode as a list of words under string format\n",
    "    \n",
    "    Outputs\n",
    "    -------\n",
    "    encoded_doc: list of integer indices of the document's words with respect to the vocabulary\n",
    "    \"\"\"\n",
    "    \n",
    "    encoded_doc = []\n",
    "    for word in doc:\n",
    "        if word in voc:\n",
    "            encoded_doc.append(onehot_encoding_word(voc, word))\n",
    "    return encoded_doc\n",
    "\n",
    "def onehot_dataset(dataset, voc):\n",
    "    \"\"\"\n",
    "    Inputs\n",
    "    ----------\n",
    "    dataset:  dataset to encode \n",
    "    voc: vocabulary\n",
    "    \n",
    "    Outputs\n",
    "    -------\n",
    "    clean_encoded_dataset: list of lists of integer indices of the documents' words with respect to the vocabulary\n",
    "    \"\"\"\n",
    "    \n",
    "    clean_encoded_dataset = [onehot_encoding_doc(voc, doc) for doc in tqdm(dataset)]\n",
    "    return clean_encoded_dataset"
   ]
  },
  {
   "cell_type": "code",
   "execution_count": 12,
   "metadata": {
    "id": "23zPZ_6XdDbU"
   },
   "outputs": [],
   "source": [
    "def preprocess_test_dataset(dataset, vocab, w_obs_prop):\n",
    "    \"\"\"\n",
    "    Inputs\n",
    "    ----------\n",
    "    dataset: test dataset containing documents to split \n",
    "    vocab: vocabulary\n",
    "    w_obs_prop: proportion of a document's words that we assign to the w_obs words list (instead of w_ho list)\n",
    "    \n",
    "    Outputs\n",
    "    -------\n",
    "    dataset_w_obs: dataset of the same length as 'dataset' where each document only contains the w_obs words\n",
    "    dataset_w_ho: dataset of the same length as 'dataset' where each document only contains the w_ho words\n",
    "    \"\"\"\n",
    "    \n",
    "    dataset_w_ho = []\n",
    "    dataset_w_obs = []\n",
    "\n",
    "    for document in tqdm(dataset):\n",
    "        document_words_set = set()\n",
    "        for word in document:\n",
    "            if word in vocab:\n",
    "                idx_word = onehot_encoding_word(vocab, word)\n",
    "                document_words_set.add(idx_word)\n",
    "                \n",
    "        document_words_set = list(document_words_set)\n",
    "        \n",
    "        # we want to have at least 3 words in a test document to use it for evaluation\n",
    "        if len(document_words_set)>2:\n",
    "            kept_prop = int(len(document_words_set)*w_obs_prop)\n",
    "            dataset_w_obs.append(document_words_set[:kept_prop])\n",
    "            dataset_w_ho.append(document_words_set[kept_prop:])\n",
    "    \n",
    "    return dataset_w_obs, dataset_w_ho"
   ]
  },
  {
   "cell_type": "code",
   "execution_count": null,
   "metadata": {
    "colab": {
     "base_uri": "https://localhost:8080/"
    },
    "id": "Ac_LF_M5NkNf",
    "outputId": "abac5cb7-16ca-4840-b329-b1d6e05ae8e1"
   },
   "outputs": [],
   "source": [
    "start=time.time()\n",
    "train_dataset_onehot = onehot_dataset(train_dataset, Vocabulary)\n",
    "end=time.time()\n",
    "print(\"\\nExtraction time for train_dataset:\", end-start)"
   ]
  },
  {
   "cell_type": "code",
   "execution_count": null,
   "metadata": {
    "colab": {
     "base_uri": "https://localhost:8080/"
    },
    "id": "FH2L1CMyfJgg",
    "outputId": "8f96c51f-945e-407a-fc07-19a14c2695b7"
   },
   "outputs": [],
   "source": [
    "start=time.time()\n",
    "test_dataset_w_obs, test_dataset_w_ho = preprocess_test_dataset(test_dataset, Vocabulary, w_obs_prop=0.70)\n",
    "end=time.time()\n",
    "print(\"\\nExtraction time for test_dataset:\", end-start)"
   ]
  },
  {
   "cell_type": "markdown",
   "metadata": {
    "id": "3FyMU4JgOhq9"
   },
   "source": [
    "Let us save the pre-processed datasets (this way, one will be able to avoid running the cells from section a) and directly run the cells of sections b) and c)). To run the following cell to save the data, **one should have folders in the working directory, named \"20NG_2_themes_data\", \"20NG_data\" and \"BBC_data\"**."
   ]
  },
  {
   "cell_type": "code",
   "execution_count": 15,
   "metadata": {
    "id": "3zvJA-qYUqwj"
   },
   "outputs": [],
   "source": [
    "with open(save_path+CHOSEN_DATASET+'_Vocabulary.txt', 'w') as f:\n",
    "    json.dump(Vocabulary, f, ensure_ascii=False)\n",
    "\n",
    "with open(save_path+CHOSEN_DATASET+\"_train_data\", \"wb\") as f1:  \n",
    "    pickle.dump(train_dataset_onehot, f1)\n",
    "\n",
    "with open(save_path+CHOSEN_DATASET+\"_test_data_w_obs\", \"wb\") as f2:  \n",
    "    pickle.dump(test_dataset_w_obs, f2)\n",
    "\n",
    "with open(save_path+CHOSEN_DATASET+\"_test_data_w_ho\", \"wb\") as f3:  \n",
    "    pickle.dump(test_dataset_w_ho, f3)"
   ]
  },
  {
   "cell_type": "markdown",
   "metadata": {
    "id": "yg-HcHkm9xOw"
   },
   "source": [
    "### b) Proposed algorithm"
   ]
  },
  {
   "cell_type": "code",
   "execution_count": 3,
   "metadata": {
    "id": "sqKNk3N2tf10"
   },
   "outputs": [],
   "source": [
    "def get_word_from_index(voc, idx_word):\n",
    "    \"\"\"\n",
    "    Inputs\n",
    "    ----------\n",
    "    voc: vocabulary\n",
    "    idx_word: integer index of the considered word in the vocabulary\n",
    "    \n",
    "    Outputs\n",
    "    -------\n",
    "    word: decoded word under string format\n",
    "    \"\"\"\n",
    "        \n",
    "    word = voc[idx_word]\n",
    "    return word"
   ]
  },
  {
   "cell_type": "code",
   "execution_count": 4,
   "metadata": {
    "id": "kpqYpQlf0eMs"
   },
   "outputs": [],
   "source": [
    "class stochastic_variational_inference():\n",
    "    def __init__(self, params):\n",
    "        \"\"\"\n",
    "        Inputs\n",
    "        ----------\n",
    "        params: dictionary containing all hyperparameters\n",
    "        \"\"\"\n",
    "        \n",
    "        self.D = params['D'] # number of documents in the collection\n",
    "        self.V = params['V'] # vocabulary's length\n",
    "        self.Vocabulary = params['Vocabulary'] # vocabulary \n",
    "        self.K = params['K'] # number of topics \n",
    "        self.alpha = params['alpha'] # dirichlet prior for beta\n",
    "        self.eta = params['eta'] # dirichlet prior for theta \n",
    "        self.T = params['T'] # maximal number of update iterations\n",
    "        self.epsilon = params['epsilon'] # threashold to test whether the gamma values stay \"constant\"\n",
    "        # parameters to control the learning rate \n",
    "        self.forgetting_rate = params['forgetting_rate'] # forgetting_rate\n",
    "        self.tau = params['tau'] # delay\n",
    "        self.rho_t = None # learning rate \n",
    "\n",
    "\n",
    "    def one_step(self,documents,lamb):\n",
    "        \"\"\"\n",
    "        Inputs\n",
    "        ----------\n",
    "        documents: the list of documents\n",
    "        lamb: current estimation of lambda\n",
    "        \n",
    "        Outputs\n",
    "        -------\n",
    "        lamb: new estimation of lambda\n",
    "        gamma_new: new estimation of gamma\n",
    "        \"\"\"\n",
    "        \n",
    "        # case where we use one_step in the 'forward' method\n",
    "        if len(documents)>1:\n",
    "            d = np.random.choice(self.D)\n",
    "            document = documents[d]\n",
    "        # case where we use one_step in the 'log_prob' method\n",
    "        else:\n",
    "            document = documents[0]\n",
    "\n",
    "        N = len(document) \n",
    "        phi = np.zeros((self.K,N))\n",
    "        gamma_new = np.ones(self.K)\n",
    "        gamma_old = np.inf\n",
    "\n",
    "        i = 0\n",
    "        \n",
    "        # E2 = E[log beta]\n",
    "        E2 = digamma(lamb) - digamma(np.sum(lamb, 1))[:, np.newaxis] \n",
    "\n",
    "        # local updates \n",
    "        while (i < self.T) and (np.linalg.norm(gamma_old - gamma_new) >= self.epsilon):\n",
    "\n",
    "            gamma_old = gamma_new\n",
    "\n",
    "            # E1 = E[log theta]\n",
    "            E1 = digamma(gamma_old) - digamma(np.sum(gamma_old))\n",
    "\n",
    "            for n in range(N):    \n",
    "                phi[:,n] = np.exp(E1 + E2[:,document[n]])\n",
    "                phi_sum = np.sum(phi[:,n])\n",
    "                if phi_sum<self.epsilon:\n",
    "                    phi[:,n]=phi[:,n]/phi_sum\n",
    "\n",
    "            gamma_new = self.alpha + np.sum(phi, axis = 1)\n",
    "            i += 1\n",
    "        \n",
    "        # global update \n",
    "        lamb_hat = np.zeros_like(lamb)\n",
    "        for k in range(self.K):\n",
    "            S = np.zeros(self.V)\n",
    "            for n in range(N):\n",
    "                S[document[n]] += phi[k,n]\n",
    "\n",
    "            lamb_hat[k] = self.eta + self.D * S       \n",
    "\n",
    "        lamb = (1-self.rho_t) * lamb + self.rho_t * lamb_hat\n",
    "        return lamb, gamma_new\n",
    "\n",
    "    def log_prob(self, lamb, test_dat_obs=None, test_dat_ho=None):\n",
    "        \"\"\"\n",
    "        Inputs\n",
    "        ----------\n",
    "        lamb: current estimation of lambda\n",
    "        test_dat_obs: a set of observed words\n",
    "        test_dat_ho: a set of held-out words\n",
    "        \n",
    "        Outputs\n",
    "        -------\n",
    "        log_prob: log predictive probability\n",
    "        \"\"\"\n",
    "        \n",
    "        log_prob = 0.\n",
    "        for test_doc_obs, test_doc_ho in zip(test_dat_obs, test_dat_ho):\n",
    "            temp_lamb, temp_gam = self.one_step([test_doc_obs], lamb)\n",
    "            esp_theta = temp_gam / np.sum(temp_gam)\n",
    "            esp_beta = temp_lamb / np.sum(temp_lamb, axis=1)[:, np.newaxis]\n",
    "            log_p_new = np.log(esp_theta[:,np.newaxis].T @ esp_beta)[0] # vector of log prob \n",
    "            eval_log_p_new=[log_p_new[word] for word in test_doc_ho]\n",
    "            log_prob += np.mean(eval_log_p_new)\n",
    "\n",
    "        return log_prob / len(test_dat_ho)\n",
    "\n",
    "    def forward(self, train_dat, eval=False, test_dat_obs=None, test_dat_ho=None, graph=False):\n",
    "        \"\"\"\n",
    "        Inputs\n",
    "        ----------\n",
    "        train_dat: list of documents for training\n",
    "        eval: boolean parameter that indicates whether log predictive probability will be computed or not\n",
    "        test_dat_obs: a set of observed words\n",
    "        test_dat_ho: a set of held-out words\n",
    "        graph: boolean parameter that indicates whether the graph of log predictive probability will be displayed or not\n",
    "        \n",
    "        Outputs\n",
    "        -------\n",
    "        lamb: final estimation of lambda\n",
    "        log_p: log predictive probability\n",
    "        \"\"\"\n",
    "        \n",
    "        lamb = np.random.uniform(low=0.5, high=1.5, size=(self.K, self.V))\n",
    "        log_p = []\n",
    "        for t in tqdm(range(1, self.T + 1)):\n",
    "            self.rho_t = pow(t + self.tau, -self.forgetting_rate)\n",
    "            lamb, gam = self.one_step(train_dat, lamb)\n",
    "            if eval and (t%10)==0:\n",
    "                log_p.append(self.log_prob(lamb, test_dat_obs, test_dat_ho))\n",
    "        \n",
    "        if graph:\n",
    "            plt.figure()\n",
    "            plt.plot(np.arange(len(log_p))*10, log_p)\n",
    "            plt.xlabel('Iterations')\n",
    "            plt.ylabel(\"Mean log probability metric\")\n",
    "            plt.show()\n",
    "        return lamb, log_p\n",
    "    \n",
    "\n",
    "    def pred_topics(self, lamb, nb_words, display_topics=False):\n",
    "        \"\"\"\n",
    "        Inputs\n",
    "        ----------\n",
    "        lamb: current estimation of lambda\n",
    "        nb_words: number of words to display in each topic\n",
    "        display_topics: boolean parameter that indicates whether topics will be displayed or not\n",
    "\n",
    "        Outputs\n",
    "        -------\n",
    "        topics: list of topics\n",
    "        \"\"\"\n",
    "        \n",
    "        esp_beta = lamb / np.sum(lamb, axis=1)[:, np.newaxis]\n",
    "        sorted_esp_beta = np.argsort(esp_beta, axis=1)[:,-nb_words:] # sort in increasing order\n",
    "        topics=[]\n",
    "        for k in range(self.K):\n",
    "            topic_k=[get_word_from_index(self.Vocabulary, idx) for idx in (sorted_esp_beta[k,:][::-1])]\n",
    "            topics.append(topic_k)\n",
    "        \"\"\"\n",
    "        if display_topics:\n",
    "            for i, topic in enumerate(topics):\n",
    "                print(f\"\\nTop {nb_words} words for topic n°{i+1}\")\n",
    "                for word in topic:\n",
    "                    print(word)\n",
    "        \"\"\"\n",
    "        if display_topics:\n",
    "            for i, topic in enumerate(topics):\n",
    "                print(f\"\\nTop {nb_words} words for topic n°{i+1}\")\n",
    "                print(topic)\n",
    "        return topics "
   ]
  },
  {
   "cell_type": "markdown",
   "metadata": {},
   "source": [
    "### c) Experimental results"
   ]
  },
  {
   "cell_type": "markdown",
   "metadata": {},
   "source": [
    "One can use the next function ('loading_preprocessed_data') to load directly the pre-processed vocabulary and datasets built in section a) without running section a)'s cells. This function will also build the parameters for the Stochastic variational inference algorithm. \n",
    "\n",
    "The user can choose from which dataset to load the preprocessed data, through the **CHOSEN_DATASET** global variable, among :\n",
    "\n",
    "* a subsection of 10% of the 20 newsgroup dataset with a 'small' vocabulary of $\\approx$ 2,100 words (\"20NG_2_themes_small_vocab\")\n",
    "\n",
    "* a subsection of 10% of the 20 newsgroup dataset with a 'large' vocabulary of $\\approx$ 3,700 words (\"20NG_2_themes_large_vocab\")\n",
    "\n",
    "* the entire 20 newsgroup dataset (\"20NG\")\n",
    "\n",
    "* the BBC news dataset (\"bbc\"). \n",
    "\n",
    "In this section, we will run various topic inferences, visualize the metric as well as the top 10 words in the found topics (as topics are distributions)."
   ]
  },
  {
   "cell_type": "code",
   "execution_count": 5,
   "metadata": {},
   "outputs": [],
   "source": [
    "def loading_preprocessed_data(CHOSEN_DATASET, path=path):\n",
    "        \n",
    "    if CHOSEN_DATASET==\"20NG\": \n",
    "        K=20\n",
    "        save_path=path+'/20NG_data/'\n",
    "\n",
    "    elif CHOSEN_DATASET==\"20NG_2_themes_small_vocab\" or CHOSEN_DATASET==\"20NG_2_themes_large_vocab\":\n",
    "        K=2\n",
    "        save_path=path+'/20NG_2_themes_data/'\n",
    "\n",
    "    elif CHOSEN_DATASET==\"bbc\": \n",
    "        K=5\n",
    "        save_path=path+'/BBC_data/'\n",
    "        \n",
    "    # Loading pre-processed data\n",
    "\n",
    "    with open(save_path+CHOSEN_DATASET+'_Vocabulary.txt') as data_file:\n",
    "        Vocabulary = json.load(data_file)\n",
    "\n",
    "    with open(save_path+CHOSEN_DATASET+\"_train_data\", \"rb\") as fp1:   \n",
    "        train_dataset_onehot = pickle.load(fp1)\n",
    "\n",
    "    with open(save_path+CHOSEN_DATASET+\"_test_data_w_obs\", \"rb\") as fp2:   \n",
    "        test_dataset_w_obs = pickle.load(fp2)\n",
    "\n",
    "    with open(save_path+CHOSEN_DATASET+\"_test_data_w_ho\", \"rb\") as fp3:   \n",
    "        test_dataset_w_ho = pickle.load(fp3)       \n",
    "        \n",
    "    # Building params for the SVI\n",
    "        \n",
    "    params = {\n",
    "            'D': len(train_dataset_onehot), # number of documents in the collection\n",
    "            'V': len(Vocabulary), # vocabulary's length\n",
    "            'Vocabulary': Vocabulary, # vocabulary\n",
    "            'K': K, # number of topics \n",
    "            'alpha': 1/K, # dirichlet prior for beta\n",
    "            'eta': 0.01, # dirichlet prior for theta \n",
    "            'T': 1000, # maximal number of update iterations\n",
    "            'epsilon': 1e-5, # threashold to test whether the gamma values stay \"constant\"\n",
    "            # parameters to control the learning rate \n",
    "            'forgetting_rate': 1, # forgetting_rate\n",
    "            'tau': 1 # delay\n",
    "        } \n",
    "    \n",
    "    return Vocabulary, train_dataset_onehot, test_dataset_w_obs, test_dataset_w_ho, params, save_path"
   ]
  },
  {
   "cell_type": "markdown",
   "metadata": {},
   "source": [
    "* **On a 10% sample from 20 newsgroup with a 'large' vocabulary of $\\approx$ 3,700 words (and forgetting_rate=1)**"
   ]
  },
  {
   "cell_type": "code",
   "execution_count": 7,
   "metadata": {},
   "outputs": [],
   "source": [
    "# Loading pre-processed data and building the parameters for SVI\n",
    "\n",
    "CHOSEN_DATASET=\"20NG_2_themes_large_vocab\"\n",
    "\n",
    "Vocabulary, train_dataset_onehot, test_dataset_w_obs, test_dataset_w_ho, params, save_path = loading_preprocessed_data(CHOSEN_DATASET)"
   ]
  },
  {
   "cell_type": "code",
   "execution_count": 8,
   "metadata": {},
   "outputs": [],
   "source": [
    "svi = stochastic_variational_inference(params)"
   ]
  },
  {
   "cell_type": "code",
   "execution_count": 9,
   "metadata": {},
   "outputs": [
    {
     "name": "stderr",
     "output_type": "stream",
     "text": [
      "100%|███████████████████████████████████████| 1000/1000 [00:36<00:00, 27.22it/s]\n"
     ]
    },
    {
     "data": {
      "image/png": "[encoded data removed]",
      "text/plain": [
       "<Figure size 640x480 with 1 Axes>"
      ]
     },
     "metadata": {},
     "output_type": "display_data"
    },
    {
     "name": "stdout",
     "output_type": "stream",
     "text": [
      "\n",
      "Inference time: 36 seconds\n"
     ]
    }
   ],
   "source": [
    "start=time.time()\n",
    "np.random.seed(0) # to get reproducible results (because of the random initialization of lambda)\n",
    "trained_lamb, log_p = svi.forward(train_dataset_onehot, eval=True, test_dat_obs=test_dataset_w_obs, test_dat_ho=test_dataset_w_ho, graph=True)\n",
    "end=time.time()\n",
    "print(\"\\nInference time:\", int(end-start), \"seconds\")\n",
    "\n",
    "# saving trained_lamb\n",
    "with open(save_path+CHOSEN_DATASET+\"_lambda\", \"wb\") as fp4:  \n",
    "    pickle.dump(trained_lamb, fp4)"
   ]
  },
  {
   "cell_type": "code",
   "execution_count": 10,
   "metadata": {},
   "outputs": [
    {
     "name": "stdout",
     "output_type": "stream",
     "text": [
      "\n",
      "Top 10 words for topic n°1\n",
      "['maria', 'keyboard', 'archbishop', 'clinical', 'typing', 'gonorrhea', 'hicnet', 'oxalic', 'marriage', 'wrist']\n",
      "\n",
      "Top 10 words for topic n°2\n",
      "['comprehensive', 'lord', 'schism', 'influenza', 'sins', 'restraint', 'ahmadiyya', 'lefebvre', 'godhead', 'gonorrhea']\n"
     ]
    }
   ],
   "source": [
    "topics = svi.pred_topics(trained_lamb, nb_words=10, display_topics=True)\n",
    "\n",
    "# saving the topics\n",
    "with open(save_path+CHOSEN_DATASET+\"_topics\", \"wb\") as fp5:  \n",
    "    pickle.dump(topics, fp5)"
   ]
  },
  {
   "cell_type": "markdown",
   "metadata": {},
   "source": [
    "* **On a 10% sample from 20 newsgroup with a 'small' vocabulary of $\\approx$ 2,100 words (and forgetting_rate=1)**"
   ]
  },
  {
   "cell_type": "code",
   "execution_count": 6,
   "metadata": {},
   "outputs": [],
   "source": [
    "# Loading pre-processed data and building the parameters for SVI\n",
    "\n",
    "CHOSEN_DATASET=\"20NG_2_themes_small_vocab\"\n",
    "\n",
    "Vocabulary, train_dataset_onehot, test_dataset_w_obs, test_dataset_w_ho, params, save_path = loading_preprocessed_data(CHOSEN_DATASET)"
   ]
  },
  {
   "cell_type": "code",
   "execution_count": 8,
   "metadata": {},
   "outputs": [],
   "source": [
    "svi = stochastic_variational_inference(params) "
   ]
  },
  {
   "cell_type": "code",
   "execution_count": 11,
   "metadata": {},
   "outputs": [
    {
     "name": "stderr",
     "output_type": "stream",
     "text": [
      "100%|███████████████████████████████████████| 1000/1000 [00:18<00:00, 54.97it/s]\n"
     ]
    },
    {
     "data": {
      "image/png": "[encoded data removed]",
      "text/plain": [
       "<Figure size 640x480 with 1 Axes>"
      ]
     },
     "metadata": {},
     "output_type": "display_data"
    },
    {
     "name": "stdout",
     "output_type": "stream",
     "text": [
      "\n",
      "Inference time: 18 seconds\n"
     ]
    }
   ],
   "source": [
    "start=time.time()\n",
    "np.random.seed(0) # to get reproducible results (because of the random initialization of lambda)\n",
    "trained_lamb, log_p = svi.forward(train_dataset_onehot, eval=True, test_dat_obs=test_dataset_w_obs, test_dat_ho=test_dataset_w_ho, graph=True)\n",
    "end=time.time()\n",
    "print(\"\\nInference time:\", int(end-start), \"seconds\")\n",
    "\n",
    "# saving trained_lamb\n",
    "with open(save_path+CHOSEN_DATASET+\"_lambda\", \"wb\") as fp4:  \n",
    "    pickle.dump(trained_lamb, fp4)"
   ]
  },
  {
   "cell_type": "code",
   "execution_count": 12,
   "metadata": {},
   "outputs": [
    {
     "name": "stdout",
     "output_type": "stream",
     "text": [
      "\n",
      "Top 10 words for topic n°1\n",
      "['maria', 'candida', 'infected', 'comprehensive', 'exercises', 'polio', '30pm', 'aspartame', 'shipping', 'deity']\n",
      "\n",
      "Top 10 words for topic n°2\n",
      "['keyboard', 'aids', 'children', '1993', 'pope', 'restraint', 'gonorrhea', 'avenue', 'ahmadiyya', 'clinical']\n"
     ]
    }
   ],
   "source": [
    "topics = svi.pred_topics(trained_lamb, nb_words=10, display_topics=True)\n",
    "\n",
    "# saving the topics\n",
    "with open(save_path+CHOSEN_DATASET+\"_topics\", \"wb\") as fp5:  \n",
    "    pickle.dump(topics, fp5)"
   ]
  },
  {
   "cell_type": "markdown",
   "metadata": {},
   "source": [
    "* **On 20 newsgroup (whole dataset) with K=20**"
   ]
  },
  {
   "cell_type": "code",
   "execution_count": 22,
   "metadata": {},
   "outputs": [],
   "source": [
    "# Loading pre-processed data and building the parameters for SVI\n",
    "\n",
    "CHOSEN_DATASET=\"20NG\"\n",
    "\n",
    "Vocabulary, train_dataset_onehot, test_dataset_w_obs, test_dataset_w_ho, params, save_path = loading_preprocessed_data(CHOSEN_DATASET)"
   ]
  },
  {
   "cell_type": "code",
   "execution_count": 19,
   "metadata": {},
   "outputs": [],
   "source": [
    "svi = stochastic_variational_inference(params) "
   ]
  },
  {
   "cell_type": "code",
   "execution_count": 20,
   "metadata": {},
   "outputs": [
    {
     "name": "stderr",
     "output_type": "stream",
     "text": [
      "100%|█████████████████████████████████████| 1000/1000 [7:01:35<00:00, 25.30s/it]\n"
     ]
    },
    {
     "data": {
      "image/png": "[encoded data removed]",
      "text/plain": [
       "<Figure size 640x480 with 1 Axes>"
      ]
     },
     "metadata": {},
     "output_type": "display_data"
    },
    {
     "name": "stdout",
     "output_type": "stream",
     "text": [
      "\n",
      "Inference time: 25295 seconds\n"
     ]
    }
   ],
   "source": [
    "# we did not fix the seed for this run\n",
    "start=time.time()\n",
    "trained_lamb, log_p = svi.forward(train_dataset_onehot, eval=True, test_dat_obs=test_dataset_w_obs, test_dat_ho=test_dataset_w_ho, graph=True)\n",
    "end=time.time()\n",
    "print(\"\\nInference time:\", int(end-start), \"seconds\")\n",
    "\n",
    "# saving trained_lamb\n",
    "with open(save_path+CHOSEN_DATASET+\"_lambda_K_20\", \"wb\") as fp4:  \n",
    "    pickle.dump(trained_lamb, fp4)"
   ]
  },
  {
   "cell_type": "code",
   "execution_count": 21,
   "metadata": {},
   "outputs": [
    {
     "name": "stdout",
     "output_type": "stream",
     "text": [
      "\n",
      "Top 10 words for topic n°1\n",
      "['kings', 'idea', 'blood', 'term', 'systems', 'cape', 'flames', 'godhead', 'algorithm', 'rychel']\n",
      "\n",
      "Top 10 words for topic n°2\n",
      "['days', 'exercises', 'list', 'making', 'wondering', 'wrong', 'weaver', 'application', 'equation', 'gospels']\n",
      "\n",
      "Top 10 words for topic n°3\n",
      "['windows', 'fredericton', 'lying', 'feel', 'games', 'approach', 'carefully', 'secular', 'hulk', 'calls']\n",
      "\n",
      "Top 10 words for topic n°4\n",
      "['russia', 'existence', 'disks', 'sydor', 'image', 'stereo', 'music', 'idea', 'cult', 'icon']\n",
      "\n",
      "Top 10 words for topic n°5\n",
      "['ottawa', 'game', 'applications', 'launched', 'series', 'hard', 'head', 'voice', 'mcconkie', 'thug']\n",
      "\n",
      "Top 10 words for topic n°6\n",
      "['president', 'guns', 'colormap', 'moncton', 'points', 'americans', 'calgary', 'flames', 'rochester', 'click']\n",
      "\n",
      "Top 10 words for topic n°7\n",
      "['people', 'jewish', 'program', 'year', 'years', 'general', 'number', 'flames', 'salvation', 'semi']\n",
      "\n",
      "Top 10 words for topic n°8\n",
      "['zoroastrians', 'workspace', 'binghamton', 'privacy', 'chip', 'project', 'prophethood', 'cars', 'withdrawn', 'works']\n",
      "\n",
      "Top 10 words for topic n°9\n",
      "['mail', 'group', 'advance', 'good', 'read', 'utica', 'adapter', 'point', 'enforcement', 'kratz']\n",
      "\n",
      "Top 10 words for topic n°10\n",
      "['driver', 'jews', 'fonts', 'network', 'providence', 'years', 'useless', 'turkey', 'platforms', 'israeli']\n",
      "\n",
      "Top 10 words for topic n°11\n",
      "['winner', 'card', 'weaver', 'regard', 'firearms', 'mike', 'rockets', 'rectangle', 'difference', 'font']\n",
      "\n",
      "Top 10 words for topic n°12\n",
      "['worth', 'keyboard', 'earth', 'info', 'questions', 'policy', 'live', 'pretty', 'copy', 'late']\n",
      "\n",
      "Top 10 words for topic n°13\n",
      "['tool', 'wwiz', 'police', 'application', 'hare', 'post', 'president', 'computers', 'lunar', 'prize']\n",
      "\n",
      "Top 10 words for topic n°14\n",
      "['space', 'portable', 'nasa', 'widget', 'adirondack', 'breton', 'email', 'spacecraft', 'program', 'wolverine']\n",
      "\n",
      "Top 10 words for topic n°15\n",
      "['kings', 'colormaps', 'height', 'objective', 'xtsetarg', 'ukraine', 'errors', 'board', 'xlib', 'global']\n",
      "\n",
      "Top 10 words for topic n°16\n",
      "['suck', 'cubs', 'data', 'args', 'keyword', 'warrant', 'hours', 'place', 'military', 'bruins']\n",
      "\n",
      "Top 10 words for topic n°17\n",
      "['ripem', 'cubs', 'memory', 'order', 'support', 'manager', 'reply', 'station', 'package', 'mother']\n",
      "\n",
      "Top 10 words for topic n°18\n",
      "['springfield', 'doug', 'handle', 'team', 'warns', 'spent', 'speed', 'atlas', 'small', 'width']\n",
      "\n",
      "Top 10 words for topic n°19\n",
      "['1993', 'diff', 'public', 'person', 'standard', 'duffey', 'problems', 'games', 'science', 'division']\n",
      "\n",
      "Top 10 words for topic n°20\n",
      "['args', 'firearms', 'answer', 'windows', 'percent', 'tinnitus', 'hope', 'pixel', 'tracking', 'india']\n"
     ]
    }
   ],
   "source": [
    "topics = svi.pred_topics(trained_lamb, nb_words=10, display_topics=True)\n",
    "\n",
    "# saving the topics\n",
    "with open(save_path+CHOSEN_DATASET+\"_topics_K_20\", \"wb\") as fp5:  \n",
    "    pickle.dump(topics, fp5)"
   ]
  },
  {
   "cell_type": "markdown",
   "metadata": {},
   "source": [
    "* **On 20 newsgroup (whole dataset) with K=5 only**"
   ]
  },
  {
   "cell_type": "code",
   "execution_count": 20,
   "metadata": {},
   "outputs": [],
   "source": [
    "# Loading pre-processed data and building the parameters for SVI\n",
    "\n",
    "CHOSEN_DATASET=\"20NG\"\n",
    "Vocabulary, train_dataset_onehot, test_dataset_w_obs, test_dataset_w_ho, params, save_path = loading_preprocessed_data(CHOSEN_DATASET)\n",
    "params['K']=5\n",
    "svi = stochastic_variational_inference(params) "
   ]
  },
  {
   "cell_type": "code",
   "execution_count": 10,
   "metadata": {},
   "outputs": [
    {
     "name": "stderr",
     "output_type": "stream",
     "text": [
      "100%|█████████████████████████████████████| 1000/1000 [4:53:01<00:00, 17.58s/it]\n"
     ]
    },
    {
     "data": {
      "image/png": "[encoded data removed]",
      "text/plain": [
       "<Figure size 640x480 with 1 Axes>"
      ]
     },
     "metadata": {},
     "output_type": "display_data"
    },
    {
     "name": "stdout",
     "output_type": "stream",
     "text": [
      "\n",
      "Inference time: 17581 seconds\n"
     ]
    }
   ],
   "source": [
    "# we did not fix the seed for this run\n",
    "start=time.time()\n",
    "trained_lamb, log_p = svi.forward(train_dataset_onehot, eval=True, test_dat_obs=test_dataset_w_obs, test_dat_ho=test_dataset_w_ho, graph=True)\n",
    "end=time.time()\n",
    "print(\"\\nInference time:\", int(end-start), \"seconds\")\n",
    "\n",
    "# saving trained_lamb\n",
    "with open(save_path+CHOSEN_DATASET+\"_lambda_K_5\", \"wb\") as fp4:  \n",
    "    pickle.dump(trained_lamb, fp4)"
   ]
  },
  {
   "cell_type": "code",
   "execution_count": 11,
   "metadata": {},
   "outputs": [
    {
     "name": "stdout",
     "output_type": "stream",
     "text": [
      "\n",
      "Top 10 words for topic n°1\n",
      "['ripem', 'larson', 'scsi', 'agrep', 'forged', 'paradox', 'courses', 'libx11', 'open', 'list']\n",
      "\n",
      "Top 10 words for topic n°2\n",
      "['physical', 'barbara', 'braking', 'level', 'grafsys', 'needed', 'orbeli', 'problem', 'standard', 'left']\n",
      "\n",
      "Top 10 words for topic n°3\n",
      "['anania', 'theory', 'windows', 'tanks', 'toolkit', 'ranger', 'venera', 'court', 'sheets', 'drive']\n",
      "\n",
      "Top 10 words for topic n°4\n",
      "['plplot', 'xlib', 'bayonet', 'mariner', 'fluids', 'theory', 'ezekiel', 'cooper', 'pittsburg', 'people']\n",
      "\n",
      "Top 10 words for topic n°5\n",
      "['probes', 'cranston', 'physicist', 'luna', 'time', 'prefix', 'runs', 'patent', 'providence', 'days']\n"
     ]
    }
   ],
   "source": [
    "topics = svi.pred_topics(trained_lamb, nb_words=10, display_topics=True)\n",
    "\n",
    "# saving the topics\n",
    "with open(save_path+CHOSEN_DATASET+\"_topics_K_5\", \"wb\") as fp5:  \n",
    "    pickle.dump(topics, fp5)"
   ]
  },
  {
   "cell_type": "markdown",
   "metadata": {},
   "source": [
    "* **On BBC news, with forgetting_rate=1**"
   ]
  },
  {
   "cell_type": "code",
   "execution_count": 8,
   "metadata": {},
   "outputs": [],
   "source": [
    "# Loading pre-processed data and building the parameters for SVI\n",
    "\n",
    "CHOSEN_DATASET=\"bbc\"\n",
    "\n",
    "Vocabulary, train_dataset_onehot, test_dataset_w_obs, test_dataset_w_ho, params, save_path = loading_preprocessed_data(CHOSEN_DATASET)"
   ]
  },
  {
   "cell_type": "code",
   "execution_count": 19,
   "metadata": {},
   "outputs": [],
   "source": [
    "svi = stochastic_variational_inference(params) "
   ]
  },
  {
   "cell_type": "code",
   "execution_count": 20,
   "metadata": {
    "colab": {
     "base_uri": "https://localhost:8080/",
     "height": 434
    },
    "id": "Kq6sG78bRBqq",
    "outputId": "51646a3c-9ca7-44b6-f11a-f6124b4b43ea"
   },
   "outputs": [
    {
     "name": "stderr",
     "output_type": "stream",
     "text": [
      "100%|█████████████████████████████████████| 1000/1000 [2:39:13<00:00,  9.55s/it]\n"
     ]
    },
    {
     "data": {
      "image/png": "[encoded data removed]",
      "text/plain": [
       "<Figure size 640x480 with 1 Axes>"
      ]
     },
     "metadata": {},
     "output_type": "display_data"
    },
    {
     "name": "stdout",
     "output_type": "stream",
     "text": [
      "\n",
      "Inference time: 9554 seconds\n"
     ]
    }
   ],
   "source": [
    "# we did not fix the seed for this run\n",
    "start=time.time()\n",
    "trained_lamb_1, log_p = svi.forward(train_dataset_onehot, eval=True, test_dat_obs=test_dataset_w_obs, test_dat_ho=test_dataset_w_ho, graph=True)\n",
    "end=time.time()\n",
    "print(\"\\nInference time:\", int(end-start), \"seconds\")\n",
    "\n",
    "# saving trained_lamb\n",
    "with open(save_path+CHOSEN_DATASET+\"_lambda_fr_1\", \"wb\") as f4:  \n",
    "    pickle.dump(trained_lamb_1, f4)"
   ]
  },
  {
   "cell_type": "code",
   "execution_count": 21,
   "metadata": {
    "id": "0jEWrktcl3QA"
   },
   "outputs": [
    {
     "name": "stdout",
     "output_type": "stream",
     "text": [
      "\n",
      "Top 10 words for topic n°1\n",
      "['kilroy', 'ballet', 'cash', 'week', 'virus', 'davis', 'alan', 'compensation', 'phishing', 'report']\n",
      "\n",
      "Top 10 words for topic n°2\n",
      "['vote', 'iraq', 'attacks', 'mock', 'bond', 'vieira', 'linux', 'blinkx', 'housing', 'apple']\n",
      "\n",
      "Top 10 words for topic n°3\n",
      "['howard', 'india', 'asylum', 'tories', 'espn', 'awards', 'control', 'double', 'turkey', 'patients']\n",
      "\n",
      "Top 10 words for topic n°4\n",
      "['angels', 'harriers', 'labour', 'mercedes', 'lenovo', 'kilroy', 'people', 'wales', 'learning', 'athens']\n",
      "\n",
      "Top 10 words for topic n°5\n",
      "['sales', 'ukip', 'rusedski', 'agreement', 'government', 'price', 'festival', 'real', 'lions', 'students']\n"
     ]
    }
   ],
   "source": [
    "topics_1 = svi.pred_topics(trained_lamb_1, nb_words=10, display_topics=True)\n",
    "\n",
    "# saving the topics\n",
    "with open(save_path+CHOSEN_DATASET+\"_topics_fr_1\", \"wb\") as fp5_a:  \n",
    "    pickle.dump(topics_1, fp5_a)"
   ]
  },
  {
   "cell_type": "markdown",
   "metadata": {},
   "source": [
    "* **On BBC news, with forgetting_rate=0.8**"
   ]
  },
  {
   "cell_type": "code",
   "execution_count": 10,
   "metadata": {},
   "outputs": [],
   "source": [
    "# Loading pre-processed data and building the parameters for SVI\n",
    "\n",
    "CHOSEN_DATASET=\"bbc\"\n",
    "Vocabulary, train_dataset_onehot, test_dataset_w_obs, test_dataset_w_ho, params, save_path = loading_preprocessed_data(CHOSEN_DATASET)\n",
    "params['forgetting_rate']=0.8\n",
    "svi = stochastic_variational_inference(params) "
   ]
  },
  {
   "cell_type": "code",
   "execution_count": 12,
   "metadata": {},
   "outputs": [
    {
     "name": "stderr",
     "output_type": "stream",
     "text": [
      "100%|█████████████████████████████████████| 1000/1000 [2:58:47<00:00, 10.73s/it]\n"
     ]
    },
    {
     "data": {
      "image/png": "[encoded data removed]",
      "text/plain": [
       "<Figure size 640x480 with 1 Axes>"
      ]
     },
     "metadata": {},
     "output_type": "display_data"
    },
    {
     "name": "stdout",
     "output_type": "stream",
     "text": [
      "\n",
      "Inference time: 10727 seconds\n"
     ]
    }
   ],
   "source": [
    "# we did not fix the seed for this run\n",
    "start=time.time()\n",
    "trained_lamb_0_8, log_p = svi.forward(train_dataset_onehot, eval=True, test_dat_obs=test_dataset_w_obs, test_dat_ho=test_dataset_w_ho, graph=True)\n",
    "end=time.time()\n",
    "print(\"\\nInference time:\", int(end-start), \"seconds\")\n",
    "\n",
    "# saving trained_lamb\n",
    "with open(save_path+CHOSEN_DATASET+\"_lambda_fr_0_8\", \"wb\") as f3:  \n",
    "    pickle.dump(trained_lamb_0_8, f3)"
   ]
  },
  {
   "cell_type": "code",
   "execution_count": 13,
   "metadata": {},
   "outputs": [
    {
     "name": "stdout",
     "output_type": "stream",
     "text": [
      "\n",
      "Top 10 words for topic n°1\n",
      "['audience', 'mouse', 'sales', 'channel', 'isinbayeva', 'carson', 'japan', 'bonus', 'venezuela', 'tremor']\n",
      "\n",
      "Top 10 words for topic n°2\n",
      "['tour', 'csos', 'time', 'mcallister', 'cinemas', 'henman', 'print', 'programmes', 'arms', 'meldrum']\n",
      "\n",
      "Top 10 words for topic n°3\n",
      "['campbell', 'police', 'telewest', 'joint', 'phishing', 'icann', 'diageo', 'delta', 'hailey', 'conventional']\n",
      "\n",
      "Top 10 words for topic n°4\n",
      "['broadband', 'williams', 'online', 'labour', 'jamie', 'choice', 'star', 'premium', 'turkcell', 'justice']\n",
      "\n",
      "Top 10 words for topic n°5\n",
      "['attacks', 'pensions', 'edwards', 'laws', 'varig', 'boeing', 'economy', 'speech', 'evans', 'appeal']\n"
     ]
    }
   ],
   "source": [
    "topics_0_8 = svi.pred_topics(trained_lamb_0_8, nb_words=10, display_topics=True)\n",
    "\n",
    "# saving the topics\n",
    "with open(save_path+CHOSEN_DATASET+\"_topics_fr_0_8\", \"wb\") as f4:  \n",
    "    pickle.dump(topics_0_8, f4)"
   ]
  },
  {
   "cell_type": "markdown",
   "metadata": {},
   "source": [
    "* **On BBC news, with forgetting_rate=0.6**"
   ]
  },
  {
   "cell_type": "code",
   "execution_count": 14,
   "metadata": {},
   "outputs": [],
   "source": [
    "# Loading pre-processed data and building the parameters for SVI\n",
    "\n",
    "CHOSEN_DATASET=\"bbc\"\n",
    "Vocabulary, train_dataset_onehot, test_dataset_w_obs, test_dataset_w_ho, params, save_path = loading_preprocessed_data(CHOSEN_DATASET)\n",
    "params['forgetting_rate']=0.6\n",
    "svi = stochastic_variational_inference(params) "
   ]
  },
  {
   "cell_type": "code",
   "execution_count": 15,
   "metadata": {},
   "outputs": [
    {
     "name": "stderr",
     "output_type": "stream",
     "text": [
      "100%|█████████████████████████████████████| 1000/1000 [2:54:23<00:00, 10.46s/it]\n"
     ]
    },
    {
     "data": {
      "image/png": "[encoded data removed]",
      "text/plain": [
       "<Figure size 640x480 with 1 Axes>"
      ]
     },
     "metadata": {},
     "output_type": "display_data"
    },
    {
     "name": "stdout",
     "output_type": "stream",
     "text": [
      "\n",
      "Inference time: 10463 seconds\n"
     ]
    }
   ],
   "source": [
    "# we did not fix the seed for this run\n",
    "start=time.time()\n",
    "trained_lamb_0_6, log_p = svi.forward(train_dataset_onehot, eval=True, test_dat_obs=test_dataset_w_obs, test_dat_ho=test_dataset_w_ho, graph=True)\n",
    "end=time.time()\n",
    "print(\"\\nInference time:\", int(end-start), \"seconds\")\n",
    "\n",
    "# saving trained_lamb\n",
    "with open(save_path+CHOSEN_DATASET+\"_lambda_fr_0_6\", \"wb\") as f1:  \n",
    "    pickle.dump(trained_lamb_0_6, f1)"
   ]
  },
  {
   "cell_type": "code",
   "execution_count": 16,
   "metadata": {},
   "outputs": [
    {
     "name": "stdout",
     "output_type": "stream",
     "text": [
      "\n",
      "Top 10 words for topic n°1\n",
      "['ofcom', 'texas', 'seed', 'robinson', 'forgotten', 'future', 'virgin', 'mcilroy', 'increase', 'succeed']\n",
      "\n",
      "Top 10 words for topic n°2\n",
      "['yukos', 'devices', 'officials', 'bond', 'demands', 'multimedia', 'female', 'staff', 'athens', 'decisions']\n",
      "\n",
      "Top 10 words for topic n°3\n",
      "['yushchenko', 'duty', 'rifle', 'viktor', 'penalties', 'spitzer', 'fiat', 'ongc', 'argentine', 'copyright']\n",
      "\n",
      "Top 10 words for topic n°4\n",
      "['arms', 'mansfield', 'wood', 'guilty', 'scott', 'melzer', 'promises', 'recession', 'disaster', 'pigs']\n",
      "\n",
      "Top 10 words for topic n°5\n",
      "['bloggers', 'album', 'phishing', 'arash', 'square', 'agassi', 'adoption', 'bids', 'customers', 'rebellion']\n"
     ]
    }
   ],
   "source": [
    "topics_0_6 = svi.pred_topics(trained_lamb_0_6, nb_words=10, display_topics=True)\n",
    "\n",
    "# saving the topics\n",
    "with open(save_path+CHOSEN_DATASET+\"_topics_fr_0_6\", \"wb\") as f2:  \n",
    "    pickle.dump(topics_0_6, f2)"
   ]
  },
  {
   "cell_type": "markdown",
   "metadata": {},
   "source": [
    "* **Comments on the experimental results**\n",
    "\n",
    "**Evolution of the log probability curve**\n",
    "\n",
    "As expected the log probability is almost monotically increasing through learning (some small fluctuations appear but this is common when using stochastic optimization), and it does stabilize at the end, just like in the paper. We also tested empirically that the distributions computed in the function log\\_prob did, indeed, sum to 1, which was the case. \n",
    "\n",
    "**Comment on the length of the vocabulary**\n",
    "\n",
    "We did a first experiment on 10% of the 20 newsgroup dataset, comparing results for a bigger vocabulary ($\\approx$ 3,700 words) to the results for a smaller one ($\\approx$ 2,100 words). We found that a smaller vocabulary led to a log probability curve that converges to a higher final log probability value ($\\approx$-8) while a larger vocabulary led to a final value of -8.5. This could come from the fact that, when using a smaller vocabulary, each word will be granted a higher probability by SVI than the same words in a larger vocabulary (as a distribution sums to 1). Furthermore, as we expected, using a smaller vocabulary ($\\frac{2100}{3700}\\approx57\\%$), leads to a more computationally effective algorithm, with inference time going from 36 seconds to 18 seconds when we replace the large vocabulary by the smaller one. Therefore, vocabulary's length and running time seem to be linearly related. Still, as we have to make sure that we keep enough words to converge to satisfying and diverse topics, finding the ideal length for the vocabulary is delicate. \n",
    "\n",
    "When looking at topic results, it seems that $\\approx$ 75% of both topics top 10 words have strong semantic value, directly related to the 2 thematic labels (religion and medecine). Results for a larger vocabulary seem to have slightly less words related to medecine, when compared to results for the small vocabulary, but no clear superiority in the results appear. \n",
    "\n",
    "Finally, let us remark that the topic results were highly dependent on the chosen seed before running the SVI inference. This proves that the initial random initialization of $\\lambda^{(0)}$ is very impactful on the topic results.  \n",
    "\n",
    "**Impact of the K hyperparameter**\n",
    "\n",
    "We then tried to infer topics on the whole 20 newsgroup dataset, first for K=20 (which is the total number of thematic labels), then for a much smaller K (K=5). We noticed that inferring a smaller number of topics did not significantly reduce the number of iterations required to converge, as in both cases our algorithm failed to converge within 1000 iterations and both reached the final value of $\\approx -9.5$. We still noticed, as we expected, that each iteration seems to be cheaper in terms of computation when K is smaller. Indeed, for 1000 iterations, we found an inference time of $\\approx 17,500$ seconds $\\approx$ 4h45 for K=5 and an inference time of $\\approx$ 25,200 seconds $\\approx$ 7h for K=20. \n",
    "\n",
    "Let us note that neither topic results were very convincing. For K=5, very inconsistent lexical fields were grouped together. As for topic results for K=20, the original thematic labels were easier to distinguish but with lots of noise. For instance, we had topics that were quite relevant such as topic n°14 ('space', 'portable', 'nasa', 'widget', 'adirondack', 'breton', 'email', 'spacecraft', 'program', 'wolverine') that seems to group words from the space and tech lexical fields, while others like topic n°20 ('args', 'firearms', 'answer', 'windows', 'percent', 'tinnitus', 'hope', 'pixel', 'tracking', 'india') were displaying words of very numerous and diverse themes such as guns, tech, medecine, politics, etc. Actually, most of our early experiments seemed to show that more noisy words were present in the topics top 10 words inferred on 20 newsgroup when compared to BBC news. This could imply that the dataset's quality (the BBC news articles gave a much cleaner vocabulary than the \"tweet\" like messages from 20 newsgroup) is crucial to improve the algorithm's results. This led us to perform later experiments on BBC news rather than on 20 newsgroup. \n",
    "\n",
    "**Impact of the forgetting rate (in the learning rate)**\n",
    "\n",
    "To test for the impact of the learning rate on the log probability curve, we tested various values of the **forgetting rate** among $\\{0.6, 0.8, 1\\}$ and found that a smaller forgetting rate=0.6 (like recommended in the paper) led to much less stable learning and slower convergence as we forget faster the old information. Indeed, we found that the larger the forgetting rate, the smoother the log probability curve's increase and the earlier its clear convergence. For instance, for BBC news with forgetting rate = 1, the convergence towards the value of -9 happens as soon as iteration 700 while for forgetting rate = 0.8 or 0.6, no clear convergence happens before iteration 1000 and final log probability values are $\\approx$ -9.4 and -10 instead of -9. \n",
    "\n",
    "As for the impact on the inferred topics, they, as well, were very sensitive to the forgetting\\_rate value. It appeared to us that the topics found for a larger forgetting rate (forgetting\\_rate = 1) were better as most of the topics top 10 words had strong semantic values with a meaning close to the 5 thematic labels of the dataset (business, entertainment, politics, sport and tech). Indeed, the inferred topics top 10 words for forgetting rate = 1 could be related to the following themes:\n",
    "\n",
    "* topic n°1: sport and tech\n",
    "\n",
    "* topic n°2: politics and tech\n",
    "\n",
    "* topic n°3: politics\n",
    "\n",
    "* topic n°4: entertainment and sport\n",
    "\n",
    "* topic n°5: business, entertainment and politics\n",
    "\n",
    "It seems that launching the same inference algorithm with smaller forgetting\\_rate values on the BBC news dataset, slightly harmed the topic results. Indeed, less top 10 words had semantic values that were easily relatable to one of the 5 thematic labels. For instance, among the results found for forgetting\\_rate=0.8, the top 10 words of topic n°3 ('campbell', 'police', 'telewest', 'joint', 'phishing', 'icann', 'diageo', 'delta', 'hailey', 'conventional') were not easily associated to a thematic label and words with low semantic values like 'joint' were highly ranked in the found distributions. However, this topic appreciation remains subjective (even more so, as the results depend on the random initialization of $\\lambda^{(0)}$).\n",
    "\n",
    "**Comments on clustering ability**\n",
    "\n",
    "Another observation on the topic results is that, both for 20 newsgroup and BBC news, even among the semantically relevant words, we found that words belonging to a same lexical field were not always grouped together in a same topic's top 10 words. For instance, when using media posts labelled as \"medecine\" and \"religion\" in 20 newsgroup, we could find in a same topic both medical and political terms grouped together as top 10 words. Similarly in the case of BBC news, even with forgetting rate = 1, we found that most inferred topics top 10 words could be related to at least 2 out of the 5 thematic labels of the dataset, as detailed above. Hence, it seems that we managed to achieve, through hyperparameter tuning and clean dataset selection, a quite satisfying level of thematic detection, while failing at performing proper clustering of found lexical fields. Our topic results were thus different and less satisfying that those in the paper because of this phenomenon. Yet, the fact that our datasets were much smaller in size than those used in the paper limited our ability to compare objectively the paper's results to ours. \n",
    "\n",
    "**Conclusion on our experimental results**\n",
    "\n",
    "As we saw, the topics obtained are very sensitive to any hyperparameter we may change, from the vocabulary's length and content (through the choice of stop words and frequency filters), to the number of topics K to evaluate, to the learning rate's calibration. As we also showed, the given metric in the paper is not enough to chose the ideal combination of such hyperparameters which leaves space to mutliple (and costly) comparative trainings to find better results or heuristics. This is a clear shortcoming of stochastic variational inference for LDA. "
   ]
  },
  {
   "cell_type": "markdown",
   "metadata": {
    "id": "EoK4G6ULXwF7"
   },
   "source": [
    "## 5) Limits and extensions\n",
    "\n",
    "Markov Chain Monte Carlo (MCMC) methods are commonly used for Bayesian inference, generating samples from the posterior distribution. Despite being able to accurately estimate posterior distributions with multiple modes, MCMC can be computationally expensive. Variational Inference, on the other hand, is an optimization method that approximates the posterior distribution with a simpler distribution and is often preferred over MCMC due to its computational efficiency. \n",
    "\n",
    "\n",
    "This article introduced Stochastic Variational Inference (SVI) as an extension of Variational Inference (VI) that incorporates stochastic optimization techniques. Compared to VI, SVI is more scalable, especially for large datasets, and more efficient for high-dimensional models. Additionally, SVI is a suitable method for online learning situations where new data is frequently added.\n",
    "\n",
    "\n",
    "In our article, several assumptions were made regarding the model, such as the distributions being from the exponential family and only considering mean field family. To optimize the objective function more efficiently and achieve faster convergence, the authors use natural gradient. The computation of the Fisher information matrix is required for calculating the natural gradient. However, the assumptions made on the model, such as the restriction to the exponential family and the mean field family, eliminate the Fisher matrix. In general, computing the Fisher information matrix can be challenging, particularly for complex models with numerous parameters. They also limit the applicability of SVI to models outside these families.\n",
    "\n",
    "Our article showcases the application of SVI in a specific domain, namely topic modeling using LDA. However, SVI is not limited to this application and can be used for other purposes as well. In our LDA model, we assumed exchangeable priors for $\\beta_k$ and $\\theta_d$, where each parameter had a unique value ($\\eta$ and $\\alpha$). Although this assumption is simpler, non-exchangeable priors may offer better performance in some cases.\n",
    "\n",
    "One challenge with LDA is that it requires specifying the number of topics in advance, which is often unknown in practice. Cross-validation can be used to address this issue, but it may not be feasible for large datasets. Another limitation of LDA is that it assumes that all topics are present in the data and that each document is generated from a mixture of these pre-specified topics. This means that LDA may not be able to identify new topics that have not been previously observed in the data.\n",
    "\n",
    "To overcome these limitations, the Hierarchical Dirichlet Process (HDP) was introduced in our reference article as a non-parametric alternative to LDA. The HDP assumes an infinite number of topics and allows the number of topics to be learned from the data. This makes it more flexible and scalable than LDA, as it can discover new topics if needed. However, HDP can be computationally more expensive and complex to implement than LDA. In general, the choice between LDA and HDP depends on the specific analytical needs. LDA is a good choice when the number of topics is known in advance, and the goal is to identify the most likely topics present in the data. HDP is a good choice when the number of topics is unknown.\n",
    "\n",
    "Finally, the presented algorithm is designed based on conjugate exponential family models, which are powerful but have limitations in capturing correlations between topics. To solve this problem, more elaborate priors are used in non-conjugate models to extend the algorithm to general cases. Here, we sample from the data uniformly, but another possible extension is to sample non-uniformly to better focus on more informative data points. Finally, we can also study and attempt to improve our estimations of the gradient, which are more computable than the natural gradient and do not require any assumptions such as the distributions belonging to the exponential family or being limited to the mean field family."
   ]
  },
  {
   "cell_type": "code",
   "execution_count": null,
   "metadata": {
    "id": "TC0wxLpWTlkK"
   },
   "outputs": [],
   "source": []
  }
 ],
 "metadata": {
  "colab": {
   "provenance": []
  },
  "kernelspec": {
   "display_name": "Python 3 (ipykernel)",
   "language": "python",
   "name": "python3"
  },
  "language_info": {
   "codemirror_mode": {
    "name": "ipython",
    "version": 3
   },
   "file_extension": ".py",
   "mimetype": "text/x-python",
   "name": "python",
   "nbconvert_exporter": "python",
   "pygments_lexer": "ipython3",
   "version": "3.8.10"
  }
 },
 "nbformat": 4,
 "nbformat_minor": 1
}
